{
  "cells": [
    {
      "cell_type": "markdown",
      "id": "ztfzRiy7gpxK",
      "metadata": {
        "id": "ztfzRiy7gpxK"
      },
      "source": [
        "# **BELAJAR MACHINE LEARNING TERAPAN : RECOMMENDATION PROJECT**"
      ]
    },
    {
      "cell_type": "markdown",
      "id": "BSfAGnFcguDq",
      "metadata": {
        "id": "BSfAGnFcguDq"
      },
      "source": [
        "# **DATA DIRI**\n",
        "\n",
        "* Nama      : Karlina Surya Witanto\n",
        "* ID        : M014V6051\n",
        "* PT        : Universitas Udayana\n",
        "* Email     : gabriella.linatan@gmail.com"
      ]
    },
    {
      "cell_type": "markdown",
      "id": "HUytzGAsg3T1",
      "metadata": {
        "id": "HUytzGAsg3T1"
      },
      "source": [
        "## Project Overview\n",
        "Film merupakan sebuah hiburan yang banyak diminati oleh masyarakat dari berbagai kalangan, salah satunya anime movie. Banyaknya genre dari suatu film membuat\n",
        "para penonton bingung untuk menentukan film apa yang ingin ditontonnya, seringkali mereka random menonton karena tidak ada informasi terkait film tersebut sebelumnya.\n",
        "Tidak jarang seseorang yang ingin menonton film menjadi kebingungan karena terlalu banyak film yang tersedia di internet. Oleh karena itu, dibutuhkan sebuah \n",
        "sistem yang dapat membantu memberikan informasi yang sesuai dengan keinginan pengguna. Sistem tersebut sering disebut dengan sistem rekomendasi.\n",
        "Sistem rekomendasi adalah suatu teknologi yang didesain untuk mempermudah pengguna dalam menemukan suatu data yang mungkin sesuai dengan profil pengguna\n",
        "secara cepat dan dapat mengurangi jumlah informasi yang terlalu banyak [Vozalis & Margaritis, 2010](http://eprints.undip.ac.id/60611/1/laporan_24010312130054_1.pdf)"
      ]
    },
    {
      "cell_type": "markdown",
      "id": "cqnVEswMg9Ze",
      "metadata": {
        "id": "cqnVEswMg9Ze"
      },
      "source": [
        "## Solution statements\n",
        "**Collaborative Filtering**. Collaborative filtering, atau yang biasa disebut dengan crowd-wisdom adalah salah satu metode rekomendasi yang menggunakan data rating dari seorang pengguna, dan pengguna lain untuk menghasilkan rekomendasi. Collaborative filtering menganggap bahwa selera pengguna terhadap suatu item atau barang akan cenderung sama dari waktu ke waktu. Ditambah lagi, pengguna yang menyukai suatu item biasanya juga akan menyukai item lain yang disukai oleh pengguna lain yang juga menyukai item yang sama dengan pengguna tersebut.\n",
        "Contoh gampangnya seperti ini, misalnya kalian menyukai film Lord of The Ring, kemudian menggunakan sistem rekomendasi, kalian ingin mengetahui film-film lainnya yang mirip atau mempunyai genre yang sama dengan Lord of The Ring. Dalam pemrosesan, sistem kemudian menemukan bahwa orang-orang yang menyukai Lord of The Ring biasanya juga suka film-film The Hobbit, Game of Thrones, dan Seven Kingdoms. Dari hasil tersebut, maka sistem memutuskan bahwa ketiga film itulah yang akan direkomendasikan kepada kalian.\n",
        "[Materi Collaborative Filtering](https://www.twoh.co/2013/06/04/membuat-sistem-rekomendasi-menggunakan-item-based-collaborative-filtering/)\n",
        "\n",
        "![Collaborative Filtering](https://dataconomy.com/wp-content/uploads/2015/03/Beginners-Guide-Recommender-Systems-Collaborative-Filtering-620x340.jpg)"
      ]
    },
    {
      "cell_type": "markdown",
      "id": "L8OuObkUhBdS",
      "metadata": {
        "id": "L8OuObkUhBdS"
      },
      "source": [
        "## Koneksikan Colab dengan Kaggle\n",
        "Code di bawah ini digunakan untuk mengoneksikan Google Colab dengan Kaggle untuk mengimpor dataset yang akan digunakan.\n",
        "\n",
        "Sumber Dataset : https://www.kaggle.com/hernan4444/anime-recommendation-database-2020"
      ]
    },
    {
      "cell_type": "code",
      "execution_count": 1,
      "id": "diFbG8PwH_u9",
      "metadata": {
        "colab": {
          "base_uri": "https://localhost:8080/"
        },
        "id": "diFbG8PwH_u9",
        "outputId": "3cb19a4d-9ac1-47fb-afbe-4f7c58939157"
      },
      "outputs": [
        {
          "name": "stdout",
          "output_type": "stream",
          "text": [
            "Requirement already satisfied: kaggle in /usr/local/lib/python3.7/dist-packages (1.5.12)\n",
            "Requirement already satisfied: certifi in /usr/local/lib/python3.7/dist-packages (from kaggle) (2021.5.30)\n",
            "Requirement already satisfied: python-slugify in /usr/local/lib/python3.7/dist-packages (from kaggle) (5.0.2)\n",
            "Requirement already satisfied: python-dateutil in /usr/local/lib/python3.7/dist-packages (from kaggle) (2.8.2)\n",
            "Requirement already satisfied: six>=1.10 in /usr/local/lib/python3.7/dist-packages (from kaggle) (1.15.0)\n",
            "Requirement already satisfied: requests in /usr/local/lib/python3.7/dist-packages (from kaggle) (2.23.0)\n",
            "Requirement already satisfied: urllib3 in /usr/local/lib/python3.7/dist-packages (from kaggle) (1.24.3)\n",
            "Requirement already satisfied: tqdm in /usr/local/lib/python3.7/dist-packages (from kaggle) (4.62.3)\n",
            "Requirement already satisfied: text-unidecode>=1.3 in /usr/local/lib/python3.7/dist-packages (from python-slugify->kaggle) (1.3)\n",
            "Requirement already satisfied: chardet<4,>=3.0.2 in /usr/local/lib/python3.7/dist-packages (from requests->kaggle) (3.0.4)\n",
            "Requirement already satisfied: idna<3,>=2.5 in /usr/local/lib/python3.7/dist-packages (from requests->kaggle) (2.10)\n"
          ]
        }
      ],
      "source": [
        "!pip install kaggle"
      ]
    },
    {
      "cell_type": "markdown",
      "id": "TbghscqHhNZX",
      "metadata": {
        "id": "TbghscqHhNZX"
      },
      "source": [
        "Mengimpor API yang disediakan Kaggle untuk melakukan koneksi Google Colab dengan Kaggle"
      ]
    },
    {
      "cell_type": "code",
      "execution_count": 2,
      "id": "0-WypKFVIAlB",
      "metadata": {
        "colab": {
          "base_uri": "https://localhost:8080/",
          "height": 91,
          "resources": {
            "http://localhost:8080/nbextensions/google.colab/files.js": {
              "data": "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",
              "headers": [
                [
                  "content-type",
                  "application/javascript"
                ]
              ],
              "ok": true,
              "status": 200,
              "status_text": ""
            }
          }
        },
        "id": "0-WypKFVIAlB",
        "outputId": "54939055-dd1e-4fac-f8ba-d50ec6161da6"
      },
      "outputs": [
        {
          "data": {
            "text/html": [
              "\n",
              "     <input type=\"file\" id=\"files-dfae0fe8-f8ac-4fe7-8081-747f5298d531\" name=\"files[]\" multiple disabled\n",
              "        style=\"border:none\" />\n",
              "     <output id=\"result-dfae0fe8-f8ac-4fe7-8081-747f5298d531\">\n",
              "      Upload widget is only available when the cell has been executed in the\n",
              "      current browser session. Please rerun this cell to enable.\n",
              "      </output>\n",
              "      <script src=\"/nbextensions/google.colab/files.js\"></script> "
            ],
            "text/plain": [
              "<IPython.core.display.HTML object>"
            ]
          },
          "metadata": {},
          "output_type": "display_data"
        },
        {
          "name": "stdout",
          "output_type": "stream",
          "text": [
            "Saving kaggle.json to kaggle.json\n"
          ]
        },
        {
          "data": {
            "text/plain": [
              "{'kaggle.json': b'{\"username\":\"karlinasuryaw\",\"key\":\"5084307d85a9a4ac3cbd305afeb4e276\"}'}"
            ]
          },
          "execution_count": 2,
          "metadata": {},
          "output_type": "execute_result"
        }
      ],
      "source": [
        "from google.colab import files\n",
        "files.upload()         # expire any previous token(s) and upload recreated token"
      ]
    },
    {
      "cell_type": "code",
      "execution_count": 3,
      "id": "8SPoipgOLnC2",
      "metadata": {
        "colab": {
          "base_uri": "https://localhost:8080/"
        },
        "id": "8SPoipgOLnC2",
        "outputId": "4e0d96f4-cdc7-4071-998b-f9f2cd6b2773"
      },
      "outputs": [
        {
          "name": "stdout",
          "output_type": "stream",
          "text": [
            "rm: cannot remove '/root/.kaggle': No such file or directory\n",
            "Warning: Looks like you're using an outdated API Version, please consider updating (server 1.5.12 / client 1.5.4)\n",
            "ref                                                         title                                              size  lastUpdated          downloadCount  \n",
            "----------------------------------------------------------  ------------------------------------------------  -----  -------------------  -------------  \n",
            "gpreda/reddit-vaccine-myths                                 Reddit Vaccine Myths                              235KB  2021-10-21 20:52:33          14135  \n",
            "crowww/a-large-scale-fish-dataset                           A Large Scale Fish Dataset                          3GB  2021-04-28 17:03:01           8489  \n",
            "imsparsh/musicnet-dataset                                   MusicNet Dataset                                   22GB  2021-02-18 14:12:19           3795  \n",
            "fatiimaezzahra/famous-iconic-women                          Famous Iconic Women                               838MB  2021-02-28 14:56:00           1643  \n",
            "dhruvildave/wikibooks-dataset                               Wikibooks Dataset                                   2GB  2021-07-03 18:37:20           3197  \n",
            "promptcloud/careerbuilder-job-listing-2020                  Careerbuilder Job Listing 2020                     42MB  2021-03-05 06:59:52           2277  \n",
            "nickuzmenkov/nih-chest-xrays-tfrecords                      NIH Chest X-rays TFRecords                         11GB  2021-03-09 04:49:23           1375  \n",
            "mathurinache/twitter-edge-nodes                             Twitter Edge Nodes                                342MB  2021-03-08 06:43:04           1117  \n",
            "alsgroup/end-als                                            End ALS Kaggle Challenge                           12GB  2021-04-08 12:16:37           1001  \n",
            "stuartjames/lights                                          LightS: Light Specularity Dataset                  18GB  2021-02-18 14:32:26            175  \n",
            "simiotic/github-code-snippets                               GitHub Code Snippets                                7GB  2021-03-03 11:34:39            400  \n",
            "mathurinache/the-lj-speech-dataset                          The LJ Speech Dataset                               3GB  2021-02-15 09:19:54            403  \n",
            "coloradokb/dandelionimages                                  DandelionImages                                     4GB  2021-02-19 20:03:47            948  \n",
            "nickuzmenkov/ranzcr-clip-kfold-tfrecords                    RANZCR CLiP KFold TFRecords                         2GB  2021-02-21 13:29:51            139  \n",
            "landrykezebou/lvzhdr-tone-mapping-benchmark-dataset-tmonet  LVZ-HDR Tone Mapping Benchmark Dataset (TMO-Net)   24GB  2021-03-01 05:03:40            219  \n",
            "imsparsh/accentdb-core-extended                             AccentDB - Core & Extended                          6GB  2021-02-17 14:22:54            159  \n",
            "datasnaek/youtube-new                                       Trending YouTube Video Statistics                 201MB  2019-06-03 00:56:47         154928  \n",
            "zynicide/wine-reviews                                       Wine Reviews                                       51MB  2017-11-27 17:08:04         146281  \n",
            "residentmario/ramen-ratings                                 Ramen Ratings                                      40KB  2018-01-11 16:04:39          28585  \n",
            "datasnaek/chess                                             Chess Game Dataset (Lichess)                        3MB  2017-09-04 03:09:09          23483  \n"
          ]
        }
      ],
      "source": [
        "!rm -r ~/.kaggle\n",
        "!mkdir ~/.kaggle\n",
        "!mv ./kaggle.json ~/.kaggle/\n",
        "!chmod 600 ~/.kaggle/kaggle.json\n",
        "!kaggle datasets list"
      ]
    },
    {
      "cell_type": "markdown",
      "id": "T5wkkF88hSKu",
      "metadata": {
        "id": "T5wkkF88hSKu"
      },
      "source": [
        "Mengimpor dataset yang akan digunakan"
      ]
    },
    {
      "cell_type": "code",
      "execution_count": 4,
      "id": "BAmnkBWmIAcl",
      "metadata": {
        "colab": {
          "base_uri": "https://localhost:8080/"
        },
        "id": "BAmnkBWmIAcl",
        "outputId": "6456ec20-6ba6-4fdc-e9a7-00c946f12ceb"
      },
      "outputs": [
        {
          "name": "stdout",
          "output_type": "stream",
          "text": [
            "Downloading anime-recommendation-database-2020.zip to /content\n",
            " 99% 651M/661M [00:04<00:00, 162MB/s]\n",
            "100% 661M/661M [00:04<00:00, 151MB/s]\n"
          ]
        }
      ],
      "source": [
        "!kaggle datasets download \"hernan4444/anime-recommendation-database-2020\""
      ]
    },
    {
      "cell_type": "markdown",
      "id": "b_DheQEihXf0",
      "metadata": {
        "id": "b_DheQEihXf0"
      },
      "source": [
        "Mengekstrak dataset yang akan digunakan"
      ]
    },
    {
      "cell_type": "code",
      "execution_count": 5,
      "id": "nqYmA-2CIAOh",
      "metadata": {
        "colab": {
          "base_uri": "https://localhost:8080/"
        },
        "id": "nqYmA-2CIAOh",
        "outputId": "db997d8a-f6f7-4246-981a-8e4407b0c122"
      },
      "outputs": [
        {
          "name": "stdout",
          "output_type": "stream",
          "text": [
            "Archive:  anime-recommendation-database-2020.zip\n",
            "  inflating: anime.csv               \n",
            "  inflating: anime_with_synopsis.csv  \n",
            "  inflating: animelist.csv           \n",
            "  inflating: html folder/html/1/details.html  \n",
            "  inflating: html folder/html/1/pictures.html  \n",
            "  inflating: html folder/html/1/recomendations.html  \n",
            "  inflating: html folder/html/1/reviews_1.html  \n",
            "  inflating: html folder/html/1/reviews_10.html  \n",
            "  inflating: html folder/html/1/reviews_11.html  \n",
            "  inflating: html folder/html/1/reviews_12.html  \n",
            "  inflating: html folder/html/1/reviews_13.html  \n",
            "  inflating: html folder/html/1/reviews_14.html  \n",
            "  inflating: html folder/html/1/reviews_15.html  \n",
            "  inflating: html folder/html/1/reviews_16.html  \n",
            "  inflating: html folder/html/1/reviews_17.html  \n",
            "  inflating: html folder/html/1/reviews_18.html  \n",
            "  inflating: html folder/html/1/reviews_19.html  \n",
            "  inflating: html folder/html/1/reviews_2.html  \n",
            "  inflating: html folder/html/1/reviews_20.html  \n",
            "  inflating: html folder/html/1/reviews_21.html  \n",
            "  inflating: html folder/html/1/reviews_22.html  \n",
            "  inflating: html folder/html/1/reviews_3.html  \n",
            "  inflating: html folder/html/1/reviews_4.html  \n",
            "  inflating: html folder/html/1/reviews_5.html  \n",
            "  inflating: html folder/html/1/reviews_6.html  \n",
            "  inflating: html folder/html/1/reviews_7.html  \n",
            "  inflating: html folder/html/1/reviews_8.html  \n",
            "  inflating: html folder/html/1/reviews_9.html  \n",
            "  inflating: html folder/html/1/staff.html  \n",
            "  inflating: html folder/html/1/stats.html  \n",
            "  inflating: html folder/html/5/details.html  \n",
            "  inflating: html folder/html/5/pictures.html  \n",
            "  inflating: html folder/html/5/recomendations.html  \n",
            "  inflating: html folder/html/5/reviews_1.html  \n",
            "  inflating: html folder/html/5/reviews_2.html  \n",
            "  inflating: html folder/html/5/reviews_3.html  \n",
            "  inflating: html folder/html/5/staff.html  \n",
            "  inflating: html folder/html/5/stats.html  \n",
            "  inflating: html folder/instructions.txt  \n",
            "  inflating: rating_complete.csv     \n",
            "  inflating: watching_status.csv     \n"
          ]
        }
      ],
      "source": [
        "! unzip anime-recommendation-database-2020.zip"
      ]
    },
    {
      "cell_type": "markdown",
      "id": "WnTIgq_Uhb2i",
      "metadata": {
        "id": "WnTIgq_Uhb2i"
      },
      "source": [
        "## Impor Library yang Dibutuhkan"
      ]
    },
    {
      "cell_type": "code",
      "execution_count": 6,
      "id": "religious-venture",
      "metadata": {
        "id": "religious-venture"
      },
      "outputs": [],
      "source": [
        "import numpy as np\n",
        "import pandas as pd\n",
        "import keras\n",
        "import nltk\n",
        "import seaborn as sns\n",
        "from keras import layers \n",
        "from sklearn.preprocessing import MultiLabelBinarizer\n",
        "from sklearn.feature_extraction.text import TfidfVectorizer\n",
        "from wordcloud import WordCloud\n",
        "from collections import defaultdict\n",
        "import matplotlib.pyplot as plt\n",
        "\n",
        "import tensorflow as tf\n",
        "from keras.models import Model\n",
        "from tensorflow.keras.optimizers import Adam\n",
        "from keras.layers import Add, Activation, Lambda, BatchNormalization, Concatenate, Dropout, Input, Embedding, Dot, Reshape, Dense, Flatten\n",
        "import matplotlib.pyplot as plt\n",
        "from tensorflow.keras.callbacks import Callback, ModelCheckpoint, LearningRateScheduler, TensorBoard, EarlyStopping, ReduceLROnPlateau"
      ]
    },
    {
      "cell_type": "markdown",
      "id": "royal-arrest",
      "metadata": {
        "id": "royal-arrest"
      },
      "source": [
        "## Data Preparation"
      ]
    },
    {
      "cell_type": "markdown",
      "id": "tI8Hme03ZK76",
      "metadata": {
        "id": "tI8Hme03ZK76"
      },
      "source": [
        "Load dataset yang akan digunakan"
      ]
    },
    {
      "cell_type": "code",
      "execution_count": 7,
      "id": "thrown-deployment",
      "metadata": {
        "id": "thrown-deployment"
      },
      "outputs": [],
      "source": [
        "directory = \"/content/\""
      ]
    },
    {
      "cell_type": "markdown",
      "id": "-mve-pbphfdZ",
      "metadata": {
        "id": "-mve-pbphfdZ"
      },
      "source": [
        "Memasukkan dataset kedalam dataframe, dataset terbagi menjadi 4 file csv"
      ]
    },
    {
      "cell_type": "code",
      "execution_count": 8,
      "id": "contemporary-council",
      "metadata": {
        "id": "contemporary-council",
        "scrolled": true
      },
      "outputs": [],
      "source": [
        "new_animedf = pd.read_csv(directory + 'anime.csv')\n",
        "watch_sta = pd.read_csv(directory + 'watching_status.csv', low_memory=False)\n",
        "anime_rating = pd.read_csv(directory + 'animelist.csv', low_memory=False, usecols=[\"user_id\", \"anime_id\", \"rating\"], nrows=5000000)\n",
        "anime_synopsis = pd.read_csv(directory + 'anime_with_synopsis.csv', low_memory=False, usecols=[\"MAL_ID\", \"Name\", \"sypnopsis\"])"
      ]
    },
    {
      "cell_type": "markdown",
      "id": "C3P8-pUr2lGG",
      "metadata": {
        "id": "C3P8-pUr2lGG"
      },
      "source": [
        "Pada proses dibawah dilakukan proses filtering untuk mendiskualifikasi baris yang memiliki nilai unknown dimana proses ini bertujuan untuk menghapus informasi yang tidak relevan, kemudian dataframe diurutkan berdasarkan kolom score secara descending dengan code di bawah ini."
      ]
    },
    {
      "cell_type": "code",
      "execution_count": 9,
      "id": "smart-nicholas",
      "metadata": {
        "colab": {
          "base_uri": "https://localhost:8080/",
          "height": 202
        },
        "id": "smart-nicholas",
        "outputId": "0b85bf92-441f-4add-f818-c6812cb4c00f"
      },
      "outputs": [
        {
          "data": {
            "text/html": [
              "<div>\n",
              "<style scoped>\n",
              "    .dataframe tbody tr th:only-of-type {\n",
              "        vertical-align: middle;\n",
              "    }\n",
              "\n",
              "    .dataframe tbody tr th {\n",
              "        vertical-align: top;\n",
              "    }\n",
              "\n",
              "    .dataframe thead th {\n",
              "        text-align: right;\n",
              "    }\n",
              "</style>\n",
              "<table border=\"1\" class=\"dataframe\">\n",
              "  <thead>\n",
              "    <tr style=\"text-align: right;\">\n",
              "      <th></th>\n",
              "      <th>MAL_ID</th>\n",
              "      <th>Name</th>\n",
              "      <th>Score</th>\n",
              "      <th>Genres</th>\n",
              "      <th>Episodes</th>\n",
              "      <th>Type</th>\n",
              "      <th>Premiered</th>\n",
              "    </tr>\n",
              "  </thead>\n",
              "  <tbody>\n",
              "    <tr>\n",
              "      <th>1649</th>\n",
              "      <td>1812</td>\n",
              "      <td>Hanoka</td>\n",
              "      <td>3.67</td>\n",
              "      <td>Sci-Fi</td>\n",
              "      <td>12</td>\n",
              "      <td>TV</td>\n",
              "      <td>Summer 2006</td>\n",
              "    </tr>\n",
              "    <tr>\n",
              "      <th>12308</th>\n",
              "      <td>34223</td>\n",
              "      <td>Forest Fairy Five</td>\n",
              "      <td>3.47</td>\n",
              "      <td>Music, Comedy, Fantasy</td>\n",
              "      <td>13</td>\n",
              "      <td>TV</td>\n",
              "      <td>Winter 2017</td>\n",
              "    </tr>\n",
              "    <tr>\n",
              "      <th>8058</th>\n",
              "      <td>19315</td>\n",
              "      <td>Pupa</td>\n",
              "      <td>3.41</td>\n",
              "      <td>Fantasy, Horror, Psychological</td>\n",
              "      <td>12</td>\n",
              "      <td>TV</td>\n",
              "      <td>Winter 2014</td>\n",
              "    </tr>\n",
              "    <tr>\n",
              "      <th>9904</th>\n",
              "      <td>28929</td>\n",
              "      <td>Vampire Holmes</td>\n",
              "      <td>3.38</td>\n",
              "      <td>Mystery, Comedy, Supernatural</td>\n",
              "      <td>12</td>\n",
              "      <td>TV</td>\n",
              "      <td>Spring 2015</td>\n",
              "    </tr>\n",
              "    <tr>\n",
              "      <th>15172</th>\n",
              "      <td>38853</td>\n",
              "      <td>Ex-Arm</td>\n",
              "      <td>2.18</td>\n",
              "      <td>Action, Sci-Fi, Ecchi, Seinen</td>\n",
              "      <td>12</td>\n",
              "      <td>TV</td>\n",
              "      <td>Winter 2021</td>\n",
              "    </tr>\n",
              "  </tbody>\n",
              "</table>\n",
              "</div>"
            ],
            "text/plain": [
              "       MAL_ID               Name Score  ... Episodes Type    Premiered\n",
              "1649     1812             Hanoka  3.67  ...       12   TV  Summer 2006\n",
              "12308   34223  Forest Fairy Five  3.47  ...       13   TV  Winter 2017\n",
              "8058    19315               Pupa  3.41  ...       12   TV  Winter 2014\n",
              "9904    28929     Vampire Holmes  3.38  ...       12   TV  Spring 2015\n",
              "15172   38853             Ex-Arm  2.18  ...       12   TV  Winter 2021\n",
              "\n",
              "[5 rows x 7 columns]"
            ]
          },
          "execution_count": 9,
          "metadata": {},
          "output_type": "execute_result"
        }
      ],
      "source": [
        "\n",
        "new_animedf = new_animedf[[\"MAL_ID\", \"Name\", \"Score\", \"Genres\", \"Episodes\", \"Type\", \"Premiered\"]]\n",
        "new_animedf = new_animedf[new_animedf[\"Score\"] != \"Unknown\"]\n",
        "new_animedf = new_animedf[new_animedf[\"Premiered\"] != \"Unknown\"]\n",
        "new_animedf = new_animedf[new_animedf[\"Type\"] != \"Unknown\"]\n",
        "new_animedf = new_animedf[new_animedf[\"Episodes\"] != \"Unknown\"]\n",
        "new_animedf = new_animedf[new_animedf[\"Genres\"] != \"Unknown\"]\n",
        "#mengurutkan dataframe berdasarkan kolom score\n",
        "new_animedf.sort_values(by=['Score'], inplace=True,\n",
        "                      ascending=False, kind='quicksort',\n",
        "                      na_position='last')\n",
        "\n",
        "#memilih beberapa kolom dataframe yang akan digunakan\n",
        "new_animedf.tail(5)"
      ]
    },
    {
      "cell_type": "markdown",
      "id": "hhdhITn26q1z",
      "metadata": {
        "id": "hhdhITn26q1z"
      },
      "source": [
        "Removing missing value, tahapan ini diperlukan karena dengan tidak adanya missing value akan membuat performa dalam pembuatan model menjadi lebih baik."
      ]
    },
    {
      "cell_type": "code",
      "execution_count": 10,
      "id": "ETMxAo_Kx2lt",
      "metadata": {
        "id": "ETMxAo_Kx2lt"
      },
      "outputs": [],
      "source": [
        "watch_sta = watch_sta.dropna()\n",
        "anime_rating = anime_rating.dropna()\n",
        "anime_synopsis = anime_synopsis.dropna()"
      ]
    },
    {
      "cell_type": "code",
      "execution_count": 11,
      "id": "6cZxxOAN3ABP",
      "metadata": {
        "colab": {
          "base_uri": "https://localhost:8080/"
        },
        "id": "6cZxxOAN3ABP",
        "outputId": "b880a61e-c698-4898-e120-f1a2b4578361"
      },
      "outputs": [
        {
          "name": "stdout",
          "output_type": "stream",
          "text": [
            "<class 'pandas.core.frame.DataFrame'>\n",
            "Int64Index: 5000000 entries, 0 to 4999999\n",
            "Data columns (total 3 columns):\n",
            " #   Column    Dtype\n",
            "---  ------    -----\n",
            " 0   user_id   int64\n",
            " 1   anime_id  int64\n",
            " 2   rating    int64\n",
            "dtypes: int64(3)\n",
            "memory usage: 152.6 MB\n"
          ]
        }
      ],
      "source": [
        "anime_rating.info()"
      ]
    },
    {
      "cell_type": "markdown",
      "id": "AS4wTLSoh5kl",
      "metadata": {
        "id": "AS4wTLSoh5kl"
      },
      "source": [
        "Normalisasi yaitu untuk mengubah nilai kolom numerik dalam kumpulan data ke skala umum, tanpa mendistorsi perbedaan dalam rentang nilai. Proses normalisasi dilakukan dengan metode Min Max dengan rumus berikut :\n",
        "\n",
        "![rumusminmax](https://user-images.githubusercontent.com/64744593/138431557-413c6bf0-66fc-4f73-ae9e-795fa5e574e4.png)\n",
        "\n",
        "serta mencari nilai average (rata-rata) dari rating"
      ]
    },
    {
      "cell_type": "code",
      "execution_count": 12,
      "id": "mysterious-youth",
      "metadata": {
        "colab": {
          "base_uri": "https://localhost:8080/"
        },
        "id": "mysterious-youth",
        "outputId": "d05f306d-6e93-4589-ef3f-1dfee0959c93"
      },
      "outputs": [
        {
          "name": "stdout",
          "output_type": "stream",
          "text": [
            "Avg 0.4298328459262848\n"
          ]
        }
      ],
      "source": [
        "# Normalisasi kolom rating\n",
        "min_rating = min(anime_rating['rating'])\n",
        "max_rating = max(anime_rating['rating'])\n",
        "anime_rating['rating'] = anime_rating[\"rating\"].apply(lambda x: (x - min_rating) / (max_rating - min_rating)).values.astype(np.float32)\n",
        "\n",
        "AvgRating = np.mean(anime_rating['rating'])\n",
        "print('Avg', AvgRating)"
      ]
    },
    {
      "cell_type": "markdown",
      "id": "NI2usQ_rh9FN",
      "metadata": {
        "id": "NI2usQ_rh9FN"
      },
      "source": [
        "Membuat unique value dari User ID, menggenerate nilai sejumlah dengan jumlah dari User ID, proses ini dilakukan untuk memberikan ID baru pada setiap baris dataframe."
      ]
    },
    {
      "cell_type": "code",
      "execution_count": 13,
      "id": "oriental-pizza",
      "metadata": {
        "id": "oriental-pizza"
      },
      "outputs": [],
      "source": [
        "#membuat unique value dari user id \n",
        "user_ids = anime_rating[\"user_id\"].unique().tolist()\n",
        "\n",
        "#menggenerate nilai sejumlah demgan jumlah dari user_id\n",
        "encoded_user = {x: i for i, x in enumerate(user_ids)}\n",
        "encodeusertouser = {i: x for i, x in enumerate(user_ids)}\n",
        "\n",
        "#membuat kolom baru yaitu user yang nilainya dihasilkan berdasarkan peroses generate nilai user id.\n",
        "anime_rating[\"user\"] = anime_rating[\"user_id\"].map(encoded_user)\n",
        "#menghitung jumlah user yang ada.\n",
        "n_users = len(encoded_user)\n",
        "\n",
        "#untuk fungsi kode dibawah samad dengan kode diatas namun objek yang digunakan merupakan anime_id.\n",
        "\n",
        "anime_ids = anime_rating[\"anime_id\"].unique().tolist()\n",
        "first_anime_encoder = {x: i for i, x in enumerate(anime_ids)}\n",
        "anime_encoder = {i: x for i, x in enumerate(anime_ids)}\n",
        "anime_rating[\"anime\"] = anime_rating[\"anime_id\"].map(first_anime_encoder)\n",
        "n_animes = len(first_anime_encoder)\n",
        "\n",
        "#secara sigkat proses ini dilakukan untuk memberikan id baru pada setiap baris di dataframe."
      ]
    },
    {
      "cell_type": "code",
      "execution_count": 14,
      "id": "international-painting",
      "metadata": {
        "colab": {
          "base_uri": "https://localhost:8080/",
          "height": 202
        },
        "id": "international-painting",
        "outputId": "475756a9-fb55-4b29-b31d-4f88d6972a62"
      },
      "outputs": [
        {
          "data": {
            "text/html": [
              "<div>\n",
              "<style scoped>\n",
              "    .dataframe tbody tr th:only-of-type {\n",
              "        vertical-align: middle;\n",
              "    }\n",
              "\n",
              "    .dataframe tbody tr th {\n",
              "        vertical-align: top;\n",
              "    }\n",
              "\n",
              "    .dataframe thead th {\n",
              "        text-align: right;\n",
              "    }\n",
              "</style>\n",
              "<table border=\"1\" class=\"dataframe\">\n",
              "  <thead>\n",
              "    <tr style=\"text-align: right;\">\n",
              "      <th></th>\n",
              "      <th>user_id</th>\n",
              "      <th>anime_id</th>\n",
              "      <th>rating</th>\n",
              "      <th>user</th>\n",
              "      <th>anime</th>\n",
              "    </tr>\n",
              "  </thead>\n",
              "  <tbody>\n",
              "    <tr>\n",
              "      <th>0</th>\n",
              "      <td>0</td>\n",
              "      <td>67</td>\n",
              "      <td>0.9</td>\n",
              "      <td>0</td>\n",
              "      <td>0</td>\n",
              "    </tr>\n",
              "    <tr>\n",
              "      <th>1</th>\n",
              "      <td>0</td>\n",
              "      <td>6702</td>\n",
              "      <td>0.7</td>\n",
              "      <td>0</td>\n",
              "      <td>1</td>\n",
              "    </tr>\n",
              "    <tr>\n",
              "      <th>2</th>\n",
              "      <td>0</td>\n",
              "      <td>242</td>\n",
              "      <td>1.0</td>\n",
              "      <td>0</td>\n",
              "      <td>2</td>\n",
              "    </tr>\n",
              "    <tr>\n",
              "      <th>3</th>\n",
              "      <td>0</td>\n",
              "      <td>4898</td>\n",
              "      <td>0.0</td>\n",
              "      <td>0</td>\n",
              "      <td>3</td>\n",
              "    </tr>\n",
              "    <tr>\n",
              "      <th>4</th>\n",
              "      <td>0</td>\n",
              "      <td>21</td>\n",
              "      <td>1.0</td>\n",
              "      <td>0</td>\n",
              "      <td>4</td>\n",
              "    </tr>\n",
              "  </tbody>\n",
              "</table>\n",
              "</div>"
            ],
            "text/plain": [
              "   user_id  anime_id  rating  user  anime\n",
              "0        0        67     0.9     0      0\n",
              "1        0      6702     0.7     0      1\n",
              "2        0       242     1.0     0      2\n",
              "3        0      4898     0.0     0      3\n",
              "4        0        21     1.0     0      4"
            ]
          },
          "execution_count": 14,
          "metadata": {},
          "output_type": "execute_result"
        }
      ],
      "source": [
        "anime_rating.head()"
      ]
    },
    {
      "cell_type": "code",
      "execution_count": 15,
      "id": "eastern-mirror",
      "metadata": {
        "colab": {
          "base_uri": "https://localhost:8080/"
        },
        "id": "eastern-mirror",
        "outputId": "d763ebb0-5fd0-4fc9-9693-b8edee755c6f"
      },
      "outputs": [
        {
          "name": "stdout",
          "output_type": "stream",
          "text": [
            "Num of users: 15186, Num of animes: 17159\n",
            "Min rating: 0.0, Max rating: 1.0\n"
          ]
        }
      ],
      "source": [
        "print(\"Num of users: {}, Num of animes: {}\".format(n_users, n_animes))\n",
        "print(\"Min rating: {}, Max rating: {}\".format(min(anime_rating['rating']), max(anime_rating['rating'])))"
      ]
    },
    {
      "cell_type": "markdown",
      "id": "joint-fraud",
      "metadata": {
        "id": "joint-fraud"
      },
      "source": [
        "Kode dibawah digunakan untuk membagi jumlah data yang akan digunakan untuk proses training dan proses testing yang akan digunakan"
      ]
    },
    {
      "cell_type": "code",
      "execution_count": 16,
      "id": "random-button",
      "metadata": {
        "id": "random-button"
      },
      "outputs": [],
      "source": [
        "# Mengacak sampel data\n",
        "anime_rating = anime_rating.sample(frac=1, random_state=73)\n",
        "\n",
        "X = anime_rating[['user', 'anime']].values\n",
        "y = anime_rating[\"rating\"]\n",
        "\n",
        "# Membagi data yang akan digunakan\n",
        "test_size = 200000\n",
        "train_indices = anime_rating.shape[0] - test_size \n",
        "\n",
        "X_train, X_test, y_train, y_test = (\n",
        "    X[:train_indices],\n",
        "    X[train_indices:],\n",
        "    y[:train_indices],\n",
        "    y[train_indices:],\n",
        ")"
      ]
    },
    {
      "cell_type": "markdown",
      "id": "formed-burden",
      "metadata": {
        "id": "formed-burden"
      },
      "source": [
        "Membagi train dan test data untuk melatih model machine learning."
      ]
    },
    {
      "cell_type": "code",
      "execution_count": 17,
      "id": "naval-robert",
      "metadata": {
        "id": "naval-robert"
      },
      "outputs": [],
      "source": [
        "X_train_array = [X_train[:, 0], X_train[:, 1]]\n",
        "X_test_array = [X_test[:, 0], X_test[:, 1]]"
      ]
    },
    {
      "cell_type": "markdown",
      "id": "k5aGYimTiJVK",
      "metadata": {
        "id": "k5aGYimTiJVK"
      },
      "source": [
        "Membuat model Embedding untuk melatih model machine learning. Embedding merupakan model jaringan saraf sederhana dengan satu lapisan tersembunyi. Ini memprediksi kata-kata yang berdekatan untuk setiap kata dalam kalimat atau korpus."
      ]
    },
    {
      "cell_type": "code",
      "execution_count": 18,
      "id": "angry-interview",
      "metadata": {
        "colab": {
          "base_uri": "https://localhost:8080/"
        },
        "id": "angry-interview",
        "outputId": "6b69fc1c-0c8e-45e7-895f-e4a5b2349254"
      },
      "outputs": [
        {
          "name": "stdout",
          "output_type": "stream",
          "text": [
            "Model: \"model\"\n",
            "__________________________________________________________________________________________________\n",
            "Layer (type)                    Output Shape         Param #     Connected to                     \n",
            "==================================================================================================\n",
            "user (InputLayer)               [(None, 1)]          0                                            \n",
            "__________________________________________________________________________________________________\n",
            "anime (InputLayer)              [(None, 1)]          0                                            \n",
            "__________________________________________________________________________________________________\n",
            "user_embedding (Embedding)      (None, 1, 128)       1943808     user[0][0]                       \n",
            "__________________________________________________________________________________________________\n",
            "anime_embedding (Embedding)     (None, 1, 128)       2196352     anime[0][0]                      \n",
            "__________________________________________________________________________________________________\n",
            "dot_product (Dot)               (None, 1, 1)         0           user_embedding[0][0]             \n",
            "                                                                 anime_embedding[0][0]            \n",
            "__________________________________________________________________________________________________\n",
            "flatten (Flatten)               (None, 1)            0           dot_product[0][0]                \n",
            "__________________________________________________________________________________________________\n",
            "dense (Dense)                   (None, 1)            2           flatten[0][0]                    \n",
            "__________________________________________________________________________________________________\n",
            "batch_normalization (BatchNorma (None, 1)            4           dense[0][0]                      \n",
            "__________________________________________________________________________________________________\n",
            "activation (Activation)         (None, 1)            0           batch_normalization[0][0]        \n",
            "==================================================================================================\n",
            "Total params: 4,140,166\n",
            "Trainable params: 4,140,164\n",
            "Non-trainable params: 2\n",
            "__________________________________________________________________________________________________\n"
          ]
        }
      ],
      "source": [
        "embedding_size = 128\n",
        "#pembuatan arsitektur model yang digunakan yaitu dengan menggunakan embedding layer yang merupakan pemeran utama.\n",
        "def GanbatteRec():\n",
        "    user = Input(name = 'user', shape = [1])\n",
        "    user_embedding = Embedding(name = 'user_embedding',\n",
        "                       input_dim = n_users, \n",
        "                       output_dim = embedding_size)(user)\n",
        "    \n",
        "    anime = Input(name = 'anime', shape = [1])\n",
        "    anime_embed = Embedding(name = 'anime_embedding',\n",
        "                       input_dim = n_animes, \n",
        "                       output_dim = embedding_size)(anime)\n",
        "    \n",
        "    # model ini juga mengguanakn layer Dot yang digunakan untuk komputasi antara embedding dari anime dan dari user.\n",
        "    x = Dot(name = 'dot_product', normalize = True, axes = 2)([user_embedding, anime_embed])\n",
        "    x = Flatten()(x)\n",
        "        \n",
        "    x = Dense(1, kernel_initializer='he_normal')(x)\n",
        "    x = BatchNormalization()(x)\n",
        "    x = Activation(\"sigmoid\")(x)\n",
        "    \n",
        "    model = Model(inputs=[user, anime], outputs=x)\n",
        "    model.compile(loss='binary_crossentropy', metrics=[\"mse\",tf.keras.metrics.Precision(),tf.keras.metrics.Recall()], optimizer='Adam')\n",
        "    \n",
        "    return model\n",
        "\n",
        "\n",
        "\n",
        "model = GanbatteRec()\n",
        "\n",
        "model.summary()"
      ]
    },
    {
      "cell_type": "markdown",
      "id": "S7ENSxAyiWDq",
      "metadata": {
        "id": "S7ENSxAyiWDq"
      },
      "source": [
        "Melakukan training model Embedding yang akan diterapkan"
      ]
    },
    {
      "cell_type": "code",
      "execution_count": 19,
      "id": "offshore-camera",
      "metadata": {
        "id": "offshore-camera"
      },
      "outputs": [],
      "source": [
        "batch_size = 5000\n",
        "\n",
        "\n",
        "checkpoint_filepath = './weights.h5'\n",
        "\n",
        "#Kode dibawah digunakan untuk menyimpan model terbaik dari proses training model.\n",
        "model_checkpoints = ModelCheckpoint(filepath=checkpoint_filepath,\n",
        "                                        save_weights_only=True,\n",
        "                                        monitor='val_loss',\n",
        "                                        mode='min',\n",
        "                                        save_best_only=True)\n",
        "#Kode dibawah digunakan untuk menghentikan proses training model apabila metrik mse yang dipantau tidak mengalami penurunan.\n",
        "early_stopping = EarlyStopping(patience = 1, monitor='mse', mode='min', restore_best_weights=True)\n",
        "\n",
        "my_callbacks = [\n",
        "    model_checkpoints,\n",
        "    early_stopping,   \n",
        "]"
      ]
    },
    {
      "cell_type": "markdown",
      "id": "OmB_wcylkF8H",
      "metadata": {
        "id": "OmB_wcylkF8H"
      },
      "source": [
        "Melakukan training model dengan epoch 50"
      ]
    },
    {
      "cell_type": "code",
      "execution_count": 20,
      "id": "thousand-bradford",
      "metadata": {
        "colab": {
          "base_uri": "https://localhost:8080/"
        },
        "id": "thousand-bradford",
        "outputId": "79657f99-7f91-4595-dea3-a86863f2a8c0"
      },
      "outputs": [
        {
          "name": "stdout",
          "output_type": "stream",
          "text": [
            "Epoch 1/50\n",
            "960/960 [==============================] - 16s 13ms/step - loss: 0.6212 - mse: 0.1242 - precision: 0.7762 - recall: 0.5486 - val_loss: 0.5475 - val_mse: 0.0936 - val_precision: 0.8552 - val_recall: 0.6520\n",
            "Epoch 2/50\n",
            "960/960 [==============================] - 12s 13ms/step - loss: 0.5077 - mse: 0.0774 - precision: 0.8995 - recall: 0.6723 - val_loss: 0.5295 - val_mse: 0.0875 - val_precision: 0.8695 - val_recall: 0.6572\n",
            "Epoch 3/50\n",
            "960/960 [==============================] - 12s 13ms/step - loss: 0.4683 - mse: 0.0627 - precision: 0.9286 - recall: 0.7097 - val_loss: 0.5332 - val_mse: 0.0889 - val_precision: 0.8693 - val_recall: 0.6578\n",
            "Epoch 4/50\n",
            "960/960 [==============================] - 12s 13ms/step - loss: 0.4432 - mse: 0.0533 - precision: 0.9466 - recall: 0.7325 - val_loss: 0.5427 - val_mse: 0.0918 - val_precision: 0.8658 - val_recall: 0.6606\n",
            "Epoch 5/50\n",
            "960/960 [==============================] - 12s 13ms/step - loss: 0.4277 - mse: 0.0476 - precision: 0.9564 - recall: 0.7462 - val_loss: 0.5514 - val_mse: 0.0942 - val_precision: 0.8631 - val_recall: 0.6561\n",
            "Epoch 6/50\n",
            "960/960 [==============================] - 12s 13ms/step - loss: 0.4170 - mse: 0.0438 - precision: 0.9626 - recall: 0.7561 - val_loss: 0.5597 - val_mse: 0.0964 - val_precision: 0.8636 - val_recall: 0.6463\n",
            "Epoch 7/50\n",
            "960/960 [==============================] - 12s 12ms/step - loss: 0.4094 - mse: 0.0411 - precision: 0.9668 - recall: 0.7634 - val_loss: 0.5661 - val_mse: 0.0980 - val_precision: 0.8627 - val_recall: 0.6440\n",
            "Epoch 8/50\n",
            "960/960 [==============================] - 12s 12ms/step - loss: 0.4036 - mse: 0.0390 - precision: 0.9699 - recall: 0.7685 - val_loss: 0.5729 - val_mse: 0.0997 - val_precision: 0.8612 - val_recall: 0.6384\n",
            "Epoch 9/50\n",
            "960/960 [==============================] - 12s 12ms/step - loss: 0.3989 - mse: 0.0374 - precision: 0.9721 - recall: 0.7733 - val_loss: 0.5788 - val_mse: 0.1010 - val_precision: 0.8595 - val_recall: 0.6453\n",
            "Epoch 10/50\n",
            "960/960 [==============================] - 12s 12ms/step - loss: 0.3950 - mse: 0.0360 - precision: 0.9738 - recall: 0.7773 - val_loss: 0.5843 - val_mse: 0.1024 - val_precision: 0.8594 - val_recall: 0.6362\n",
            "Epoch 11/50\n",
            "960/960 [==============================] - 12s 12ms/step - loss: 0.3917 - mse: 0.0348 - precision: 0.9754 - recall: 0.7808 - val_loss: 0.5888 - val_mse: 0.1034 - val_precision: 0.8590 - val_recall: 0.6320\n",
            "Epoch 12/50\n",
            "960/960 [==============================] - 12s 13ms/step - loss: 0.3888 - mse: 0.0338 - precision: 0.9764 - recall: 0.7835 - val_loss: 0.5942 - val_mse: 0.1045 - val_precision: 0.8565 - val_recall: 0.6412\n",
            "Epoch 13/50\n",
            "960/960 [==============================] - 12s 12ms/step - loss: 0.3863 - mse: 0.0329 - precision: 0.9776 - recall: 0.7862 - val_loss: 0.5994 - val_mse: 0.1056 - val_precision: 0.8574 - val_recall: 0.6334\n",
            "Epoch 14/50\n",
            "960/960 [==============================] - 12s 12ms/step - loss: 0.3840 - mse: 0.0321 - precision: 0.9786 - recall: 0.7890 - val_loss: 0.6032 - val_mse: 0.1064 - val_precision: 0.8578 - val_recall: 0.6254\n",
            "Epoch 15/50\n",
            "960/960 [==============================] - 12s 12ms/step - loss: 0.3819 - mse: 0.0314 - precision: 0.9793 - recall: 0.7910 - val_loss: 0.6072 - val_mse: 0.1071 - val_precision: 0.8549 - val_recall: 0.6369\n",
            "Epoch 16/50\n",
            "960/960 [==============================] - 12s 12ms/step - loss: 0.3800 - mse: 0.0308 - precision: 0.9801 - recall: 0.7930 - val_loss: 0.6122 - val_mse: 0.1081 - val_precision: 0.8553 - val_recall: 0.6305\n",
            "Epoch 17/50\n",
            "960/960 [==============================] - 12s 12ms/step - loss: 0.3784 - mse: 0.0302 - precision: 0.9806 - recall: 0.7949 - val_loss: 0.6155 - val_mse: 0.1087 - val_precision: 0.8537 - val_recall: 0.6354\n",
            "Epoch 18/50\n",
            "960/960 [==============================] - 12s 12ms/step - loss: 0.3767 - mse: 0.0297 - precision: 0.9812 - recall: 0.7965 - val_loss: 0.6193 - val_mse: 0.1093 - val_precision: 0.8546 - val_recall: 0.6300\n",
            "Epoch 19/50\n",
            "960/960 [==============================] - 12s 12ms/step - loss: 0.3753 - mse: 0.0292 - precision: 0.9818 - recall: 0.7980 - val_loss: 0.6240 - val_mse: 0.1102 - val_precision: 0.8531 - val_recall: 0.6361\n",
            "Epoch 20/50\n",
            "960/960 [==============================] - 12s 12ms/step - loss: 0.3739 - mse: 0.0287 - precision: 0.9821 - recall: 0.7995 - val_loss: 0.6271 - val_mse: 0.1107 - val_precision: 0.8520 - val_recall: 0.6347\n",
            "Epoch 21/50\n",
            "960/960 [==============================] - 12s 12ms/step - loss: 0.3726 - mse: 0.0283 - precision: 0.9826 - recall: 0.8012 - val_loss: 0.6306 - val_mse: 0.1114 - val_precision: 0.8535 - val_recall: 0.6269\n",
            "Epoch 22/50\n",
            "960/960 [==============================] - 12s 13ms/step - loss: 0.3715 - mse: 0.0279 - precision: 0.9830 - recall: 0.8022 - val_loss: 0.6337 - val_mse: 0.1119 - val_precision: 0.8520 - val_recall: 0.6330\n",
            "Epoch 23/50\n",
            "960/960 [==============================] - 12s 13ms/step - loss: 0.3704 - mse: 0.0275 - precision: 0.9833 - recall: 0.8035 - val_loss: 0.6362 - val_mse: 0.1122 - val_precision: 0.8514 - val_recall: 0.6345\n",
            "Epoch 24/50\n",
            "960/960 [==============================] - 12s 13ms/step - loss: 0.3694 - mse: 0.0272 - precision: 0.9836 - recall: 0.8046 - val_loss: 0.6422 - val_mse: 0.1132 - val_precision: 0.8513 - val_recall: 0.6317\n",
            "Epoch 25/50\n",
            "960/960 [==============================] - 12s 12ms/step - loss: 0.3684 - mse: 0.0268 - precision: 0.9841 - recall: 0.8058 - val_loss: 0.6437 - val_mse: 0.1135 - val_precision: 0.8507 - val_recall: 0.6339\n",
            "Epoch 26/50\n",
            "960/960 [==============================] - 12s 13ms/step - loss: 0.3675 - mse: 0.0265 - precision: 0.9844 - recall: 0.8067 - val_loss: 0.6478 - val_mse: 0.1141 - val_precision: 0.8509 - val_recall: 0.6317\n",
            "Epoch 27/50\n",
            "960/960 [==============================] - 12s 13ms/step - loss: 0.3666 - mse: 0.0262 - precision: 0.9845 - recall: 0.8079 - val_loss: 0.6498 - val_mse: 0.1144 - val_precision: 0.8510 - val_recall: 0.6316\n",
            "Epoch 28/50\n",
            "960/960 [==============================] - 12s 13ms/step - loss: 0.3657 - mse: 0.0259 - precision: 0.9847 - recall: 0.8088 - val_loss: 0.6524 - val_mse: 0.1148 - val_precision: 0.8508 - val_recall: 0.6295\n",
            "Epoch 29/50\n",
            "960/960 [==============================] - 12s 13ms/step - loss: 0.3649 - mse: 0.0257 - precision: 0.9850 - recall: 0.8096 - val_loss: 0.6571 - val_mse: 0.1154 - val_precision: 0.8494 - val_recall: 0.6350\n",
            "Epoch 30/50\n",
            "960/960 [==============================] - 12s 13ms/step - loss: 0.3642 - mse: 0.0254 - precision: 0.9853 - recall: 0.8106 - val_loss: 0.6595 - val_mse: 0.1159 - val_precision: 0.8502 - val_recall: 0.6315\n",
            "Epoch 31/50\n",
            "960/960 [==============================] - 13s 13ms/step - loss: 0.3635 - mse: 0.0252 - precision: 0.9855 - recall: 0.8113 - val_loss: 0.6613 - val_mse: 0.1161 - val_precision: 0.8496 - val_recall: 0.6285\n",
            "Epoch 32/50\n",
            "960/960 [==============================] - 12s 13ms/step - loss: 0.3628 - mse: 0.0249 - precision: 0.9857 - recall: 0.8121 - val_loss: 0.6645 - val_mse: 0.1165 - val_precision: 0.8489 - val_recall: 0.6323\n",
            "Epoch 33/50\n",
            "960/960 [==============================] - 12s 13ms/step - loss: 0.3621 - mse: 0.0247 - precision: 0.9859 - recall: 0.8129 - val_loss: 0.6666 - val_mse: 0.1169 - val_precision: 0.8492 - val_recall: 0.6299\n",
            "Epoch 34/50\n",
            "960/960 [==============================] - 12s 12ms/step - loss: 0.3615 - mse: 0.0245 - precision: 0.9862 - recall: 0.8132 - val_loss: 0.6691 - val_mse: 0.1172 - val_precision: 0.8487 - val_recall: 0.6301\n",
            "Epoch 35/50\n",
            "960/960 [==============================] - 12s 12ms/step - loss: 0.3609 - mse: 0.0243 - precision: 0.9862 - recall: 0.8143 - val_loss: 0.6718 - val_mse: 0.1177 - val_precision: 0.8485 - val_recall: 0.6296\n",
            "Epoch 36/50\n",
            "960/960 [==============================] - 12s 12ms/step - loss: 0.3603 - mse: 0.0241 - precision: 0.9865 - recall: 0.8148 - val_loss: 0.6747 - val_mse: 0.1181 - val_precision: 0.8485 - val_recall: 0.6252\n",
            "Epoch 37/50\n",
            "960/960 [==============================] - 12s 13ms/step - loss: 0.3598 - mse: 0.0240 - precision: 0.9865 - recall: 0.8156 - val_loss: 0.6769 - val_mse: 0.1183 - val_precision: 0.8480 - val_recall: 0.6263\n",
            "Epoch 38/50\n",
            "960/960 [==============================] - 12s 13ms/step - loss: 0.3592 - mse: 0.0238 - precision: 0.9867 - recall: 0.8159 - val_loss: 0.6794 - val_mse: 0.1186 - val_precision: 0.8475 - val_recall: 0.6292\n",
            "Epoch 39/50\n",
            "960/960 [==============================] - 12s 13ms/step - loss: 0.3587 - mse: 0.0236 - precision: 0.9869 - recall: 0.8167 - val_loss: 0.6825 - val_mse: 0.1190 - val_precision: 0.8480 - val_recall: 0.6306\n",
            "Epoch 40/50\n",
            "960/960 [==============================] - 12s 13ms/step - loss: 0.3582 - mse: 0.0234 - precision: 0.9870 - recall: 0.8172 - val_loss: 0.6847 - val_mse: 0.1193 - val_precision: 0.8468 - val_recall: 0.6313\n",
            "Epoch 41/50\n",
            "960/960 [==============================] - 12s 12ms/step - loss: 0.3577 - mse: 0.0233 - precision: 0.9871 - recall: 0.8177 - val_loss: 0.6861 - val_mse: 0.1196 - val_precision: 0.8482 - val_recall: 0.6257\n",
            "Epoch 42/50\n",
            "960/960 [==============================] - 12s 13ms/step - loss: 0.3573 - mse: 0.0231 - precision: 0.9872 - recall: 0.8184 - val_loss: 0.6886 - val_mse: 0.1198 - val_precision: 0.8464 - val_recall: 0.6305\n",
            "Epoch 43/50\n",
            "960/960 [==============================] - 12s 13ms/step - loss: 0.3568 - mse: 0.0230 - precision: 0.9874 - recall: 0.8186 - val_loss: 0.6905 - val_mse: 0.1201 - val_precision: 0.8464 - val_recall: 0.6310\n",
            "Epoch 44/50\n",
            "960/960 [==============================] - 12s 13ms/step - loss: 0.3564 - mse: 0.0228 - precision: 0.9876 - recall: 0.8193 - val_loss: 0.6931 - val_mse: 0.1205 - val_precision: 0.8459 - val_recall: 0.6345\n",
            "Epoch 45/50\n",
            "960/960 [==============================] - 12s 13ms/step - loss: 0.3559 - mse: 0.0227 - precision: 0.9877 - recall: 0.8196 - val_loss: 0.6962 - val_mse: 0.1208 - val_precision: 0.8462 - val_recall: 0.6282\n",
            "Epoch 46/50\n",
            "960/960 [==============================] - 12s 13ms/step - loss: 0.3556 - mse: 0.0226 - precision: 0.9878 - recall: 0.8203 - val_loss: 0.6960 - val_mse: 0.1209 - val_precision: 0.8465 - val_recall: 0.6230\n",
            "Epoch 47/50\n",
            "960/960 [==============================] - 12s 13ms/step - loss: 0.3552 - mse: 0.0224 - precision: 0.9878 - recall: 0.8205 - val_loss: 0.6989 - val_mse: 0.1212 - val_precision: 0.8463 - val_recall: 0.6282\n",
            "Epoch 48/50\n",
            "960/960 [==============================] - 12s 12ms/step - loss: 0.3548 - mse: 0.0223 - precision: 0.9879 - recall: 0.8208 - val_loss: 0.7011 - val_mse: 0.1215 - val_precision: 0.8452 - val_recall: 0.6320\n",
            "Epoch 49/50\n",
            "960/960 [==============================] - 12s 13ms/step - loss: 0.3544 - mse: 0.0222 - precision: 0.9881 - recall: 0.8216 - val_loss: 0.7041 - val_mse: 0.1219 - val_precision: 0.8459 - val_recall: 0.6260\n",
            "Epoch 50/50\n",
            "960/960 [==============================] - 12s 13ms/step - loss: 0.3540 - mse: 0.0221 - precision: 0.9882 - recall: 0.8220 - val_loss: 0.7049 - val_mse: 0.1219 - val_precision: 0.8456 - val_recall: 0.6331\n"
          ]
        }
      ],
      "source": [
        "history = model.fit(\n",
        "    x=X_train_array,\n",
        "    y=y_train,\n",
        "    batch_size=batch_size,\n",
        "    epochs=50,\n",
        "    verbose=1,\n",
        "    callbacks=my_callbacks,\n",
        "    validation_data=(X_test_array, y_test),\n",
        "\n",
        ")\n",
        "\n",
        "model.load_weights(checkpoint_filepath)"
      ]
    },
    {
      "cell_type": "markdown",
      "id": "T0-OAkWcibOL",
      "metadata": {
        "id": "T0-OAkWcibOL"
      },
      "source": [
        "## Membuat Visualisasi Plot"
      ]
    },
    {
      "cell_type": "markdown",
      "id": "qIm2lLEktV0L",
      "metadata": {
        "id": "qIm2lLEktV0L"
      },
      "source": [
        "Visualisasi Plot Loss"
      ]
    },
    {
      "cell_type": "code",
      "execution_count": 21,
      "id": "superior-wisdom",
      "metadata": {
        "colab": {
          "base_uri": "https://localhost:8080/",
          "height": 294
        },
        "id": "superior-wisdom",
        "outputId": "fd49039f-b0aa-49a8-cc8f-5e360120b068"
      },
      "outputs": [
        {
          "data": {
            "image/png": "[encoded data removed]",
            "text/plain": [
              "<Figure size 432x288 with 1 Axes>"
            ]
          },
          "metadata": {
            "needs_background": "light"
          },
          "output_type": "display_data"
        }
      ],
      "source": [
        "#Membuat plot\n",
        "plt.plot(history.history[\"loss\"])\n",
        "plt.plot(history.history[\"val_loss\"])\n",
        "plt.title(\"model loss\")\n",
        "plt.ylabel(\"loss\")\n",
        "plt.xlabel(\"epoch\")\n",
        "plt.legend([\"train\", \"test\"], loc=\"upper left\")\n",
        "plt.show()"
      ]
    },
    {
      "cell_type": "markdown",
      "id": "FMQs-ejBtYkB",
      "metadata": {
        "id": "FMQs-ejBtYkB"
      },
      "source": [
        "Visualisasi Plot MSE"
      ]
    },
    {
      "cell_type": "code",
      "execution_count": 22,
      "id": "perfect-match",
      "metadata": {
        "colab": {
          "base_uri": "https://localhost:8080/",
          "height": 294
        },
        "id": "perfect-match",
        "outputId": "97010d75-8c46-4170-bdf4-29b93957fa65"
      },
      "outputs": [
        {
          "data": {
            "image/png": "[encoded data removed]",
            "text/plain": [
              "<Figure size 432x288 with 1 Axes>"
            ]
          },
          "metadata": {
            "needs_background": "light"
          },
          "output_type": "display_data"
        }
      ],
      "source": [
        "#Membuat plot\n",
        "plt.plot(history.history[\"mse\"])\n",
        "plt.plot(history.history[\"val_mse\"])\n",
        "plt.title(\"model mse\")\n",
        "plt.ylabel(\"mse\")\n",
        "plt.xlabel(\"epoch\")\n",
        "plt.legend([\"train\", \"test\"], loc=\"upper left\")\n",
        "plt.show()"
      ]
    },
    {
      "cell_type": "markdown",
      "id": "YMAMwFuLtbYh",
      "metadata": {
        "id": "YMAMwFuLtbYh"
      },
      "source": [
        "Visualisasi Plot Recall"
      ]
    },
    {
      "cell_type": "code",
      "execution_count": 23,
      "id": "amber-smart",
      "metadata": {
        "colab": {
          "base_uri": "https://localhost:8080/",
          "height": 294
        },
        "id": "amber-smart",
        "outputId": "f50f1007-10d7-4a1a-cfe8-d60e8033aaa5"
      },
      "outputs": [
        {
          "data": {
            "image/png": "[encoded data removed]",
            "text/plain": [
              "<Figure size 432x288 with 1 Axes>"
            ]
          },
          "metadata": {
            "needs_background": "light"
          },
          "output_type": "display_data"
        }
      ],
      "source": [
        "#Membuat plot\n",
        "plt.plot(history.history[\"recall\"])\n",
        "plt.plot(history.history[\"val_recall\"])\n",
        "plt.title(\"model recall\")\n",
        "plt.ylabel(\"recall\")\n",
        "plt.xlabel(\"epoch\")\n",
        "plt.legend([\"train\", \"test\"], loc=\"upper left\")\n",
        "plt.show()"
      ]
    },
    {
      "cell_type": "markdown",
      "id": "MjYswIVHtdpg",
      "metadata": {
        "id": "MjYswIVHtdpg"
      },
      "source": [
        "Visualisasi Plot Precision"
      ]
    },
    {
      "cell_type": "code",
      "execution_count": 24,
      "id": "median-superior",
      "metadata": {
        "colab": {
          "base_uri": "https://localhost:8080/",
          "height": 294
        },
        "id": "median-superior",
        "outputId": "4c85886b-6b55-43b5-a6c1-dacd5cf0dc90"
      },
      "outputs": [
        {
          "data": {
            "image/png": "[encoded data removed]",
            "text/plain": [
              "<Figure size 432x288 with 1 Axes>"
            ]
          },
          "metadata": {
            "needs_background": "light"
          },
          "output_type": "display_data"
        }
      ],
      "source": [
        "#Membuat plot\n",
        "plt.plot(history.history[\"precision\"])\n",
        "plt.plot(history.history[\"val_precision\"])\n",
        "plt.title(\"model precision\")\n",
        "plt.ylabel(\"precision\")\n",
        "plt.xlabel(\"epoch\")\n",
        "plt.legend([\"train\", \"test\"], loc=\"upper left\")\n",
        "plt.show()"
      ]
    },
    {
      "cell_type": "markdown",
      "id": "lggYZVS-5t42",
      "metadata": {
        "id": "lggYZVS-5t42"
      },
      "source": [
        "## Load model weights"
      ]
    },
    {
      "cell_type": "markdown",
      "id": "6lOjdbvWimk3",
      "metadata": {
        "id": "6lOjdbvWimk3"
      },
      "source": [
        "fungsi load_weights digunakan untuk meload kembali weight model yang sebelumnya \n",
        "telah disimpan"
      ]
    },
    {
      "cell_type": "code",
      "execution_count": 25,
      "id": "bacterial-recipient",
      "metadata": {
        "id": "bacterial-recipient"
      },
      "outputs": [],
      "source": [
        "def load_weights(name, model):\n",
        "    weight_layer = model.get_layer(name)\n",
        "    weights = weight_layer.get_weights()[0]\n",
        "    weights = weights / np.linalg.norm(weights, axis = 1).reshape((-1, 1))\n",
        "    return weights\n",
        "\n",
        "anime_weights = load_weights('anime_embedding', model)\n",
        "user_weights = load_weights('user_embedding', model)\n"
      ]
    },
    {
      "cell_type": "markdown",
      "id": "qnnO8mB95xV1",
      "metadata": {
        "id": "qnnO8mB95xV1"
      },
      "source": [
        "Mencari id anime berdasarkan judul dengan menggunakan id baru yang sebelumnya telah dibuat"
      ]
    },
    {
      "cell_type": "code",
      "execution_count": 26,
      "id": "2ixLJ_RWvtGU",
      "metadata": {
        "id": "2ixLJ_RWvtGU"
      },
      "outputs": [],
      "source": [
        "def getanimedata(anime):\n",
        "    if isinstance(anime, int):\n",
        "        return new_animedf[new_animedf.MAL_ID == anime]\n",
        "    if isinstance(anime, str):\n",
        "        return new_animedf[new_animedf.Name == anime]\n",
        "\n",
        "def getanimesynopsis(anime):\n",
        "    if isinstance(anime, int):\n",
        "        return anime_synopsis[anime_synopsis.MAL_ID == anime].sypnopsis.values[0]\n",
        "    if isinstance(anime, str):\n",
        "        return anime_synopsis[anime_synopsis.Name == anime].sypnopsis.values[0]"
      ]
    },
    {
      "cell_type": "markdown",
      "id": "DnPHwdCLnFA8",
      "metadata": {
        "id": "DnPHwdCLnFA8"
      },
      "source": [
        "# Collaborative Filtering. \n",
        "\n",
        "## Tugas 1: Menemukan pengguna serupa (anime yang pernah di rate oleh pengguna)"
      ]
    },
    {
      "cell_type": "markdown",
      "id": "hcz9ZcgdnYD2",
      "metadata": {
        "id": "hcz9ZcgdnYD2"
      },
      "source": [
        "Kode dibawah digunakan untuk generate random user"
      ]
    },
    {
      "cell_type": "code",
      "execution_count": 27,
      "id": "square-deputy",
      "metadata": {
        "colab": {
          "base_uri": "https://localhost:8080/"
        },
        "id": "square-deputy",
        "outputId": "8675f301-038a-4929-acfd-de8c829ebe0b"
      },
      "outputs": [
        {
          "name": "stdout",
          "output_type": "stream",
          "text": [
            "Generate random user\n",
            "User ID: 4821\n"
          ]
        }
      ],
      "source": [
        "print('Generate random user')\n",
        "\n",
        "rating_by_user = anime_rating.groupby('user_id').size()\n",
        "random_user = rating_by_user[rating_by_user < 500].sample(1, random_state=None).index[0]\n",
        "# pake kode dibawah untuk memasukkan id user sesuai keinginan\n",
        "#random_user = 9878\n",
        "print('User ID:', random_user)"
      ]
    },
    {
      "cell_type": "markdown",
      "id": "J8sVmjb1ner8",
      "metadata": {
        "id": "J8sVmjb1ner8"
      },
      "source": [
        "Kode dibawah digunakan untuk mencari tingkat kemiripan user.\n",
        "1. Tahap awal yang dilakukan adalah load weight dari model dengan embedding user yang sebelumnya telah dibuat.\n",
        "2. Kemudian setelah weight dari model tersebut di load selanjutnya load weight secara spesifik dengan memasukkan index yang berupa id dari user. kita akan mendapatkan array sebagai outputnya.\n",
        "3. Menggunakan fungsi .argsort untuk mengurutkn array tersebut. karena fungsi argsort dari numpy mengurutkan nilai atau bobot darikecil ke besar maka disini id yang diambil dari belakang. \n",
        "4. Melakukan proses decode dari id user itu dengan menggunakan fungsi yang telah dibuat yaitu fungsi encodetouser untuk mendapatkan id riil dari user tersebut."
      ]
    },
    {
      "cell_type": "code",
      "execution_count": 28,
      "id": "young-cutting",
      "metadata": {
        "id": "young-cutting"
      },
      "outputs": [],
      "source": [
        "def get_similar_users(temp_id, n=10):\n",
        "      index = temp_id\n",
        "      encoded_index = encoded_user.get(index)\n",
        "      weights = user_weights\n",
        "      dists = np.dot(weights, weights[encoded_index])\n",
        "      sorted_dists = np.argsort(dists)\n",
        "      n = n + 1\n",
        "      closest = sorted_dists[-n:]\n",
        "\n",
        "      print('User that similar to user #{}'.format(temp_id))\n",
        "      \n",
        "      rindex = new_animedf\n",
        "      Similar_arr = []\n",
        "      \n",
        "      for close in closest:\n",
        "          similarity = dists[closest]\n",
        "\n",
        "          if isinstance(temp_id, int):\n",
        "              decoded_id = encodeusertouser.get(close)\n",
        "              Similar_arr.append({\"similar_users\": decoded_id, \n",
        "                                    \"similarity\": similarity})\n",
        "\n",
        "      Frame = pd.DataFrame(Similar_arr)\n",
        "      \n",
        "      return Frame"
      ]
    },
    {
      "cell_type": "markdown",
      "id": "n5CAiXPamBPQ",
      "metadata": {
        "id": "n5CAiXPamBPQ"
      },
      "source": [
        "Kode di bawah ini digunakan untuk mencari similar user"
      ]
    },
    {
      "cell_type": "code",
      "execution_count": 29,
      "id": "novel-affairs",
      "metadata": {
        "colab": {
          "base_uri": "https://localhost:8080/",
          "height": 220
        },
        "id": "novel-affairs",
        "outputId": "b7243930-afda-4a2a-bb77-94489ff49bff"
      },
      "outputs": [
        {
          "name": "stdout",
          "output_type": "stream",
          "text": [
            "User that similar to user #4821\n"
          ]
        },
        {
          "data": {
            "text/html": [
              "<div>\n",
              "<style scoped>\n",
              "    .dataframe tbody tr th:only-of-type {\n",
              "        vertical-align: middle;\n",
              "    }\n",
              "\n",
              "    .dataframe tbody tr th {\n",
              "        vertical-align: top;\n",
              "    }\n",
              "\n",
              "    .dataframe thead th {\n",
              "        text-align: right;\n",
              "    }\n",
              "</style>\n",
              "<table border=\"1\" class=\"dataframe\">\n",
              "  <thead>\n",
              "    <tr style=\"text-align: right;\">\n",
              "      <th></th>\n",
              "      <th>similar_users</th>\n",
              "      <th>similarity</th>\n",
              "    </tr>\n",
              "  </thead>\n",
              "  <tbody>\n",
              "    <tr>\n",
              "      <th>0</th>\n",
              "      <td>6833</td>\n",
              "      <td>[0.28304297, 0.28320205, 0.28412625, 0.2858888...</td>\n",
              "    </tr>\n",
              "    <tr>\n",
              "      <th>1</th>\n",
              "      <td>14095</td>\n",
              "      <td>[0.28304297, 0.28320205, 0.28412625, 0.2858888...</td>\n",
              "    </tr>\n",
              "    <tr>\n",
              "      <th>2</th>\n",
              "      <td>13804</td>\n",
              "      <td>[0.28304297, 0.28320205, 0.28412625, 0.2858888...</td>\n",
              "    </tr>\n",
              "    <tr>\n",
              "      <th>3</th>\n",
              "      <td>622</td>\n",
              "      <td>[0.28304297, 0.28320205, 0.28412625, 0.2858888...</td>\n",
              "    </tr>\n",
              "    <tr>\n",
              "      <th>4</th>\n",
              "      <td>1214</td>\n",
              "      <td>[0.28304297, 0.28320205, 0.28412625, 0.2858888...</td>\n",
              "    </tr>\n",
              "  </tbody>\n",
              "</table>\n",
              "</div>"
            ],
            "text/plain": [
              "   similar_users                                         similarity\n",
              "0           6833  [0.28304297, 0.28320205, 0.28412625, 0.2858888...\n",
              "1          14095  [0.28304297, 0.28320205, 0.28412625, 0.2858888...\n",
              "2          13804  [0.28304297, 0.28320205, 0.28412625, 0.2858888...\n",
              "3            622  [0.28304297, 0.28320205, 0.28412625, 0.2858888...\n",
              "4           1214  [0.28304297, 0.28320205, 0.28412625, 0.2858888..."
            ]
          },
          "execution_count": 29,
          "metadata": {},
          "output_type": "execute_result"
        }
      ],
      "source": [
        "similar_users = get_similar_users(int(random_user), \n",
        "                                   n=5)\n",
        "\n",
        "similar_users = similar_users[similar_users.similar_users != random_user]\n",
        "similar_users.head(5)"
      ]
    },
    {
      "cell_type": "markdown",
      "id": "Y8-4_cpNpChM",
      "metadata": {
        "id": "Y8-4_cpNpChM"
      },
      "source": [
        "## Menampilkan wordcloud dari genre anime"
      ]
    },
    {
      "cell_type": "code",
      "execution_count": 30,
      "id": "IFgHAG0xpALN",
      "metadata": {
        "id": "IFgHAG0xpALN"
      },
      "outputs": [],
      "source": [
        "def showWordCloud(all_genres):\n",
        "    genres_cloud = WordCloud(width=700, height=400, \n",
        "                             background_color='white', \n",
        "                             colormap='gnuplot').generate_from_frequencies(all_genres)\n",
        "    \n",
        "    plt.figure(figsize=(10,8)) \n",
        "    plt.imshow(genres_cloud, interpolation='bilinear')\n",
        "    plt.axis('off')\n",
        "    plt.show()"
      ]
    },
    {
      "cell_type": "markdown",
      "id": "jXnPWDx0pzhj",
      "metadata": {
        "id": "jXnPWDx0pzhj"
      },
      "source": [
        "Membuat list genre berdasarkan dataframe anime yang dimasukkan.\n",
        "\n",
        "\n",
        "1.   Load dataframe anime\n",
        "2.   Perulangan for untuk setiap anime yang ada\n",
        "3.   Perulangan for untuk memasukkan setiap genre dari anime kedalam temp\n",
        "4.   Membuat wordcloud dari genre yang ada.\n",
        "\n"
      ]
    },
    {
      "cell_type": "code",
      "execution_count": 31,
      "id": "vx4ZRJnOpKVq",
      "metadata": {
        "id": "vx4ZRJnOpKVq"
      },
      "outputs": [],
      "source": [
        "\n",
        "def FavGenre(user_pref_df, plot=False):\n",
        "        #user_pref_df.dropna(inplace=False)\n",
        "        all_genre = defaultdict(int)\n",
        "        temp = []\n",
        "        for genres in user_pref_df['Genres']:\n",
        "            if isinstance(genres, str):\n",
        "                for genre in genres.split(','):\n",
        "                    temp.append(genre)\n",
        "                    all_genre[genre.strip()] += 1    \n",
        "        if plot:\n",
        "            showWordCloud(all_genre)\n",
        "        \n",
        "        return temp\n"
      ]
    },
    {
      "cell_type": "markdown",
      "id": "_enKPSWUqWWP",
      "metadata": {
        "id": "_enKPSWUqWWP"
      },
      "source": [
        "Kode dibawah digunakan untuk menampilkan list rekomendasi anime berdasarkan aktivitas tontonan anime user. \n",
        "1.   Mencari data anime apa saja yang telah ditonton oleh user dan memasukkannya kedalam dataframe baru\n",
        "2.   Mencari nilai terendah dari rating anime\n",
        "3.   Membuat referensi anime (top_anime_refference) dengan mengurutkan anime berdasarkan rating.\n",
        "4.   Membuat dataframe baru berdasarkan dataframe utama (new_animedf) dan melakukan seleksi yang mana data yang dimasukkan adalah anime yang termasuk kedalam referensi anime (top_anime_refference)\n",
        "5.   Menghitung rata-rata rating yang diberikan oleh user\n",
        "6.   Membuat plot dari genre anime yang berada dalam dataframe baru\n",
        "\n",
        "\n"
      ]
    },
    {
      "cell_type": "code",
      "execution_count": 50,
      "id": "bG2hVI3bYKVH",
      "metadata": {
        "id": "bG2hVI3bYKVH"
      },
      "outputs": [],
      "source": [
        "def get_user_anime_preference(user_id, plot=False, temp=1):\n",
        "  already_watched_by_user = anime_rating[anime_rating.user_id==user_id]\n",
        "  #rating_percentile menentukan batas rating terendah anime\n",
        "  lowest_rating = np.percentile(already_watched_by_user.rating, 75)\n",
        "  already_watched_by_user = already_watched_by_user[already_watched_by_user.rating >= lowest_rating]\n",
        "  top_anime_refference = (\n",
        "      already_watched_by_user.sort_values(by=\"rating\", ascending=False)#.head(10)\n",
        "      .anime_id.values\n",
        "  )\n",
        "  \n",
        "  user_pref_df = new_animedf[new_animedf[\"MAL_ID\"].isin(top_anime_refference)]\n",
        "  user_pref_df = user_pref_df[[\"MAL_ID\",\"Name\", \"Genres\",\"Score\",\"Episodes\",\"Premiered\"]]\n",
        "  \n",
        "  if temp != 0:\n",
        "      print(\"User #{} Already Rated {} movies with average rating = {:.1f}\".format(\n",
        "        user_id, len(already_watched_by_user),\n",
        "        already_watched_by_user['rating'].mean()*10,\n",
        "      ))\n",
        "  \n",
        "      print('Recommended anime genre for user:')\n",
        "  if plot:\n",
        "      FavGenre(user_pref_df, plot)       \n",
        "  return user_pref_df"
      ]
    },
    {
      "cell_type": "markdown",
      "id": "ueGq7X4DmJ21",
      "metadata": {
        "id": "ueGq7X4DmJ21"
      },
      "source": [
        "Menampilkan word cloud dan rekomendasi anime untuk user"
      ]
    },
    {
      "cell_type": "code",
      "execution_count": 51,
      "id": "6bRNAfuXYOhb",
      "metadata": {
        "colab": {
          "base_uri": "https://localhost:8080/",
          "height": 724
        },
        "id": "6bRNAfuXYOhb",
        "outputId": "db0d5da9-49f5-4197-dbaa-60c4e987a088"
      },
      "outputs": [
        {
          "name": "stdout",
          "output_type": "stream",
          "text": [
            "User #4821 Already Rated 79 movies with average rating = 8.7\n",
            "Recommended anime genre for user:\n"
          ]
        },
        {
          "data": {
            "image/png": "[encoded data removed]",
            "text/plain": [
              "<Figure size 720x576 with 1 Axes>"
            ]
          },
          "metadata": {
            "needs_background": "light"
          },
          "output_type": "display_data"
        },
        {
          "data": {
            "text/html": [
              "<div>\n",
              "<style scoped>\n",
              "    .dataframe tbody tr th:only-of-type {\n",
              "        vertical-align: middle;\n",
              "    }\n",
              "\n",
              "    .dataframe tbody tr th {\n",
              "        vertical-align: top;\n",
              "    }\n",
              "\n",
              "    .dataframe thead th {\n",
              "        text-align: right;\n",
              "    }\n",
              "</style>\n",
              "<table border=\"1\" class=\"dataframe\">\n",
              "  <thead>\n",
              "    <tr style=\"text-align: right;\">\n",
              "      <th></th>\n",
              "      <th>MAL_ID</th>\n",
              "      <th>Name</th>\n",
              "      <th>Genres</th>\n",
              "      <th>Score</th>\n",
              "      <th>Episodes</th>\n",
              "      <th>Premiered</th>\n",
              "    </tr>\n",
              "  </thead>\n",
              "  <tbody>\n",
              "    <tr>\n",
              "      <th>14306</th>\n",
              "      <td>37510</td>\n",
              "      <td>Mob Psycho 100 II</td>\n",
              "      <td>Action, Slice of Life, Comedy, Supernatural</td>\n",
              "      <td>8.84</td>\n",
              "      <td>13</td>\n",
              "      <td>Winter 2019</td>\n",
              "    </tr>\n",
              "    <tr>\n",
              "      <th>14485</th>\n",
              "      <td>37779</td>\n",
              "      <td>Yakusoku no Neverland</td>\n",
              "      <td>Sci-Fi, Mystery, Horror, Psychological, Thrill...</td>\n",
              "      <td>8.65</td>\n",
              "      <td>12</td>\n",
              "      <td>Winter 2019</td>\n",
              "    </tr>\n",
              "    <tr>\n",
              "      <th>14631</th>\n",
              "      <td>38000</td>\n",
              "      <td>Kimetsu no Yaiba</td>\n",
              "      <td>Action, Demons, Historical, Shounen, Supernatural</td>\n",
              "      <td>8.62</td>\n",
              "      <td>26</td>\n",
              "      <td>Spring 2019</td>\n",
              "    </tr>\n",
              "    <tr>\n",
              "      <th>10451</th>\n",
              "      <td>30276</td>\n",
              "      <td>One Punch Man</td>\n",
              "      <td>Action, Sci-Fi, Comedy, Parody, Super Power, S...</td>\n",
              "      <td>8.57</td>\n",
              "      <td>12</td>\n",
              "      <td>Fall 2015</td>\n",
              "    </tr>\n",
              "    <tr>\n",
              "      <th>11260</th>\n",
              "      <td>32182</td>\n",
              "      <td>Mob Psycho 100</td>\n",
              "      <td>Action, Slice of Life, Comedy, Supernatural</td>\n",
              "      <td>8.49</td>\n",
              "      <td>12</td>\n",
              "      <td>Summer 2016</td>\n",
              "    </tr>\n",
              "    <tr>\n",
              "      <th>7013</th>\n",
              "      <td>13601</td>\n",
              "      <td>Psycho-Pass</td>\n",
              "      <td>Action, Sci-Fi, Police, Psychological</td>\n",
              "      <td>8.38</td>\n",
              "      <td>22</td>\n",
              "      <td>Fall 2012</td>\n",
              "    </tr>\n",
              "    <tr>\n",
              "      <th>11914</th>\n",
              "      <td>33486</td>\n",
              "      <td>Boku no Hero Academia 2nd Season</td>\n",
              "      <td>Action, Comedy, Super Power, School, Shounen</td>\n",
              "      <td>8.33</td>\n",
              "      <td>25</td>\n",
              "      <td>Spring 2017</td>\n",
              "    </tr>\n",
              "    <tr>\n",
              "      <th>13644</th>\n",
              "      <td>36456</td>\n",
              "      <td>Boku no Hero Academia 3rd Season</td>\n",
              "      <td>Action, Comedy, Super Power, School, Shounen</td>\n",
              "      <td>8.25</td>\n",
              "      <td>25</td>\n",
              "      <td>Spring 2018</td>\n",
              "    </tr>\n",
              "    <tr>\n",
              "      <th>10573</th>\n",
              "      <td>30503</td>\n",
              "      <td>Noragami Aragoto</td>\n",
              "      <td>Action, Adventure, Comedy, Supernatural, Shounen</td>\n",
              "      <td>8.22</td>\n",
              "      <td>13</td>\n",
              "      <td>Fall 2015</td>\n",
              "    </tr>\n",
              "    <tr>\n",
              "      <th>770</th>\n",
              "      <td>853</td>\n",
              "      <td>Ouran Koukou Host Club</td>\n",
              "      <td>Comedy, Harem, Romance, School, Shoujo</td>\n",
              "      <td>8.2</td>\n",
              "      <td>26</td>\n",
              "      <td>Spring 2006</td>\n",
              "    </tr>\n",
              "  </tbody>\n",
              "</table>\n",
              "</div>"
            ],
            "text/plain": [
              "       MAL_ID                              Name  ... Episodes    Premiered\n",
              "14306   37510                 Mob Psycho 100 II  ...       13  Winter 2019\n",
              "14485   37779             Yakusoku no Neverland  ...       12  Winter 2019\n",
              "14631   38000                  Kimetsu no Yaiba  ...       26  Spring 2019\n",
              "10451   30276                     One Punch Man  ...       12    Fall 2015\n",
              "11260   32182                    Mob Psycho 100  ...       12  Summer 2016\n",
              "7013    13601                       Psycho-Pass  ...       22    Fall 2012\n",
              "11914   33486  Boku no Hero Academia 2nd Season  ...       25  Spring 2017\n",
              "13644   36456  Boku no Hero Academia 3rd Season  ...       25  Spring 2018\n",
              "10573   30503                  Noragami Aragoto  ...       13    Fall 2015\n",
              "770       853            Ouran Koukou Host Club  ...       26  Spring 2006\n",
              "\n",
              "[10 rows x 6 columns]"
            ]
          },
          "execution_count": 51,
          "metadata": {},
          "output_type": "execute_result"
        }
      ],
      "source": [
        "reff_user = get_user_anime_preference(random_user, plot=True)\n",
        "reff_user=pd.DataFrame(reff_user)\n",
        "reff_user.head(10)"
      ]
    },
    {
      "cell_type": "markdown",
      "id": "dtMx1Vvcji-D",
      "metadata": {
        "id": "dtMx1Vvcji-D"
      },
      "source": [
        "## Tugas 2 : Merekomendasikan Anime untuk pengguna acak"
      ]
    },
    {
      "cell_type": "markdown",
      "id": "BcqXqqMjAfkM",
      "metadata": {
        "id": "BcqXqqMjAfkM"
      },
      "source": [
        "Get anime rec for user by other user reference.\n",
        "\n",
        "1.   Melakukan perulangan for untuk mencari preferensi dari anime yang telah ditonton oleh masing-masing user dan disimpan didalam list.\n",
        "2.   Membuat dataframe baru dengan data dari list anime dari masing-masing user dan sekaligus menghitung tingkat kemunculan dari judul anime tersebut.\n",
        "\n",
        "3.   Membuat perulangan for untuk mendapatkan data dari masing-masing anime, seperti genre, judul, jumlah episode\n",
        "\n",
        "\n"
      ]
    },
    {
      "cell_type": "code",
      "execution_count": 52,
      "id": "ni479GmxrLJf",
      "metadata": {
        "id": "ni479GmxrLJf"
      },
      "outputs": [],
      "source": [
        "def get_anime_by_similar_users(similar_users):\n",
        "  n=10\n",
        "  rec_anime = []\n",
        "  anime_list = []\n",
        "\n",
        "  for user_id in similar_users.similar_users.values:\n",
        "      pref_list = get_user_anime_preference(int(user_id), temp=0)\n",
        "      pref_list = pref_list[~ pref_list.Name.isin(reff_user.Name.values)]\n",
        "      anime_list.append(pref_list.Name.values)\n",
        "      \n",
        "  anime_list = pd.DataFrame(anime_list)\n",
        "  sorted_list = pd.DataFrame(pd.Series(anime_list.values.ravel()).value_counts()).head(n)\n",
        "\n",
        "  for i, anime_name in enumerate(sorted_list.index):        \n",
        "      n_user_pref = sorted_list[sorted_list.index == anime_name].values[0][0]\n",
        "      if isinstance(anime_name, str):\n",
        "          \n",
        "        frame = getanimedata(anime_name)\n",
        "        anime_id = frame.MAL_ID.values[0]\n",
        "        genre = frame.Genres.values[0]\n",
        "        synopsis = getanimesynopsis(int(anime_id))\n",
        "        rec_anime.append({\"anime_id\": anime_id ,\n",
        "                                    \"point\": n_user_pref,\n",
        "                                    \"Title\": anime_name, \n",
        "                                    \"Genres\": genre,\n",
        "                                    \"Sypnopsis\": synopsis\n",
        "                                    })\n",
        "\n",
        "\n",
        "  return pd.DataFrame(rec_anime)\n"
      ]
    },
    {
      "cell_type": "markdown",
      "id": "_PRSxoYDO-u_",
      "metadata": {
        "id": "_PRSxoYDO-u_"
      },
      "source": [
        "### Menampilkan top 10 anime"
      ]
    },
    {
      "cell_type": "code",
      "execution_count": 53,
      "id": "ZMqJwDQXrXit",
      "metadata": {
        "colab": {
          "base_uri": "https://localhost:8080/",
          "height": 724
        },
        "id": "ZMqJwDQXrXit",
        "outputId": "b895e747-edfc-4663-aa51-338d68638b5e"
      },
      "outputs": [
        {
          "name": "stdout",
          "output_type": "stream",
          "text": [
            "\n",
            " Top recommendations for user with id: 4821\n"
          ]
        },
        {
          "data": {
            "image/png": "[encoded data removed]",
            "text/plain": [
              "<Figure size 720x576 with 1 Axes>"
            ]
          },
          "metadata": {
            "needs_background": "light"
          },
          "output_type": "display_data"
        },
        {
          "data": {
            "text/html": [
              "<div>\n",
              "<style scoped>\n",
              "    .dataframe tbody tr th:only-of-type {\n",
              "        vertical-align: middle;\n",
              "    }\n",
              "\n",
              "    .dataframe tbody tr th {\n",
              "        vertical-align: top;\n",
              "    }\n",
              "\n",
              "    .dataframe thead th {\n",
              "        text-align: right;\n",
              "    }\n",
              "</style>\n",
              "<table border=\"1\" class=\"dataframe\">\n",
              "  <thead>\n",
              "    <tr style=\"text-align: right;\">\n",
              "      <th></th>\n",
              "      <th>anime_id</th>\n",
              "      <th>point</th>\n",
              "      <th>Title</th>\n",
              "      <th>Genres</th>\n",
              "      <th>Sypnopsis</th>\n",
              "    </tr>\n",
              "  </thead>\n",
              "  <tbody>\n",
              "    <tr>\n",
              "      <th>0</th>\n",
              "      <td>1535</td>\n",
              "      <td>4</td>\n",
              "      <td>Death Note</td>\n",
              "      <td>Mystery, Police, Psychological, Supernatural, ...</td>\n",
              "      <td>shinigami, as a god of death, can kill any per...</td>\n",
              "    </tr>\n",
              "    <tr>\n",
              "      <th>1</th>\n",
              "      <td>4181</td>\n",
              "      <td>3</td>\n",
              "      <td>Clannad: After Story</td>\n",
              "      <td>Slice of Life, Comedy, Supernatural, Drama, Ro...</td>\n",
              "      <td>Clannad: After Story , the sequel to the criti...</td>\n",
              "    </tr>\n",
              "    <tr>\n",
              "      <th>2</th>\n",
              "      <td>9253</td>\n",
              "      <td>3</td>\n",
              "      <td>Steins;Gate</td>\n",
              "      <td>Thriller, Sci-Fi</td>\n",
              "      <td>The self-proclaimed mad scientist Rintarou Oka...</td>\n",
              "    </tr>\n",
              "    <tr>\n",
              "      <th>3</th>\n",
              "      <td>16498</td>\n",
              "      <td>3</td>\n",
              "      <td>Shingeki no Kyojin</td>\n",
              "      <td>Action, Military, Mystery, Super Power, Drama,...</td>\n",
              "      <td>Centuries ago, mankind was slaughtered to near...</td>\n",
              "    </tr>\n",
              "    <tr>\n",
              "      <th>4</th>\n",
              "      <td>5114</td>\n",
              "      <td>3</td>\n",
              "      <td>Fullmetal Alchemist: Brotherhood</td>\n",
              "      <td>Action, Military, Adventure, Comedy, Drama, Ma...</td>\n",
              "      <td>\"In order for something to be obtained, someth...</td>\n",
              "    </tr>\n",
              "    <tr>\n",
              "      <th>5</th>\n",
              "      <td>22319</td>\n",
              "      <td>3</td>\n",
              "      <td>Tokyo Ghoul</td>\n",
              "      <td>Action, Mystery, Horror, Psychological, Supern...</td>\n",
              "      <td>Tokyo has become a cruel and merciless city—a ...</td>\n",
              "    </tr>\n",
              "    <tr>\n",
              "      <th>6</th>\n",
              "      <td>11013</td>\n",
              "      <td>3</td>\n",
              "      <td>Inu x Boku SS</td>\n",
              "      <td>Comedy, Supernatural, Romance, Shounen</td>\n",
              "      <td>chiyo Shirakiin is the sheltered daughter of a...</td>\n",
              "    </tr>\n",
              "    <tr>\n",
              "      <th>7</th>\n",
              "      <td>918</td>\n",
              "      <td>3</td>\n",
              "      <td>Gintama</td>\n",
              "      <td>Action, Comedy, Historical, Parody, Samurai, S...</td>\n",
              "      <td>The Amanto, aliens from outer space, have inva...</td>\n",
              "    </tr>\n",
              "    <tr>\n",
              "      <th>8</th>\n",
              "      <td>4224</td>\n",
              "      <td>3</td>\n",
              "      <td>Toradora!</td>\n",
              "      <td>Slice of Life, Comedy, Romance, School</td>\n",
              "      <td>uuji Takasu is a gentle high school student wi...</td>\n",
              "    </tr>\n",
              "    <tr>\n",
              "      <th>9</th>\n",
              "      <td>12189</td>\n",
              "      <td>3</td>\n",
              "      <td>Hyouka</td>\n",
              "      <td>Mystery, School, Slice of Life</td>\n",
              "      <td>Energy-conservative high school student Houtar...</td>\n",
              "    </tr>\n",
              "  </tbody>\n",
              "</table>\n",
              "</div>"
            ],
            "text/plain": [
              "   anime_id  ...                                          Sypnopsis\n",
              "0      1535  ...  shinigami, as a god of death, can kill any per...\n",
              "1      4181  ...  Clannad: After Story , the sequel to the criti...\n",
              "2      9253  ...  The self-proclaimed mad scientist Rintarou Oka...\n",
              "3     16498  ...  Centuries ago, mankind was slaughtered to near...\n",
              "4      5114  ...  \"In order for something to be obtained, someth...\n",
              "5     22319  ...  Tokyo has become a cruel and merciless city—a ...\n",
              "6     11013  ...  chiyo Shirakiin is the sheltered daughter of a...\n",
              "7       918  ...  The Amanto, aliens from outer space, have inva...\n",
              "8      4224  ...  uuji Takasu is a gentle high school student wi...\n",
              "9     12189  ...  Energy-conservative high school student Houtar...\n",
              "\n",
              "[10 rows x 5 columns]"
            ]
          },
          "execution_count": 53,
          "metadata": {},
          "output_type": "execute_result"
        }
      ],
      "source": [
        "\n",
        "print('\\n Top recommendations for user with id: {}'.format(random_user))\n",
        "rec_anime = get_anime_by_similar_users(similar_users)\n",
        "FavGenre(rec_anime, plot=True)\n",
        "rec_anime"
      ]
    },
    {
      "cell_type": "markdown",
      "id": "JVtCkSj0M0vP",
      "metadata": {
        "id": "JVtCkSj0M0vP"
      },
      "source": [
        "### Membandingkan anime hasil rekomendasi berdasarkan similarity dengan user lain  dengan history tontonan user"
      ]
    },
    {
      "cell_type": "code",
      "execution_count": 54,
      "id": "ggo8BNUHLhp3",
      "metadata": {
        "colab": {
          "base_uri": "https://localhost:8080/",
          "height": 263
        },
        "id": "ggo8BNUHLhp3",
        "outputId": "e151e5a3-9b70-4ac6-d019-a10edc5a2e39"
      },
      "outputs": [
        {
          "data": {
            "text/html": [
              "<div>\n",
              "<style scoped>\n",
              "    .dataframe tbody tr th:only-of-type {\n",
              "        vertical-align: middle;\n",
              "    }\n",
              "\n",
              "    .dataframe tbody tr th {\n",
              "        vertical-align: top;\n",
              "    }\n",
              "\n",
              "    .dataframe thead th {\n",
              "        text-align: right;\n",
              "    }\n",
              "</style>\n",
              "<table border=\"1\" class=\"dataframe\">\n",
              "  <thead>\n",
              "    <tr style=\"text-align: right;\">\n",
              "      <th></th>\n",
              "      <th>anime_id</th>\n",
              "      <th>Status</th>\n",
              "    </tr>\n",
              "  </thead>\n",
              "  <tbody>\n",
              "    <tr>\n",
              "      <th>0</th>\n",
              "      <td>1535</td>\n",
              "      <td>Same</td>\n",
              "    </tr>\n",
              "    <tr>\n",
              "      <th>1</th>\n",
              "      <td>9253</td>\n",
              "      <td>Same</td>\n",
              "    </tr>\n",
              "    <tr>\n",
              "      <th>2</th>\n",
              "      <td>16498</td>\n",
              "      <td>Same</td>\n",
              "    </tr>\n",
              "    <tr>\n",
              "      <th>3</th>\n",
              "      <td>5114</td>\n",
              "      <td>Same</td>\n",
              "    </tr>\n",
              "    <tr>\n",
              "      <th>4</th>\n",
              "      <td>22319</td>\n",
              "      <td>Same</td>\n",
              "    </tr>\n",
              "    <tr>\n",
              "      <th>5</th>\n",
              "      <td>918</td>\n",
              "      <td>Same</td>\n",
              "    </tr>\n",
              "    <tr>\n",
              "      <th>6</th>\n",
              "      <td>12189</td>\n",
              "      <td>Same</td>\n",
              "    </tr>\n",
              "  </tbody>\n",
              "</table>\n",
              "</div>"
            ],
            "text/plain": [
              "   anime_id Status\n",
              "0      1535   Same\n",
              "1      9253   Same\n",
              "2     16498   Same\n",
              "3      5114   Same\n",
              "4     22319   Same\n",
              "5       918   Same\n",
              "6     12189   Same"
            ]
          },
          "execution_count": 54,
          "metadata": {},
          "output_type": "execute_result"
        }
      ],
      "source": [
        "#def comparison_rec_user ():\n",
        "comparison = anime_rating[anime_rating[\"user_id\"]==random_user]\n",
        "comparison_anime = []\n",
        "for rec_anime_id in rec_anime['anime_id']:\n",
        "  for anime_id in comparison['anime_id']:\n",
        "    if rec_anime_id == anime_id:\n",
        "      comparison_anime.append({\"anime_id\": rec_anime_id,\n",
        "                            \"Status\" : \"Same\"\n",
        "                            })\n",
        "comparison_anime = pd.DataFrame(comparison_anime)\n",
        "comparison_anime"
      ]
    },
    {
      "cell_type": "markdown",
      "id": "yye6hcTBjKr9",
      "metadata": {
        "id": "yye6hcTBjKr9"
      },
      "source": [
        "## Evaluasi Model"
      ]
    },
    {
      "cell_type": "markdown",
      "id": "7pzHjmbrjwxe",
      "metadata": {
        "id": "7pzHjmbrjwxe"
      },
      "source": [
        "Metrik Evaluasi yang digunakan yaitu MSE, precision, dan recall"
      ]
    },
    {
      "cell_type": "code",
      "execution_count": 55,
      "id": "1sPemGHVeHhZ",
      "metadata": {
        "colab": {
          "base_uri": "https://localhost:8080/"
        },
        "id": "1sPemGHVeHhZ",
        "outputId": "28521090-7fb3-4e7d-d82a-9c954968f3ce"
      },
      "outputs": [
        {
          "name": "stdout",
          "output_type": "stream",
          "text": [
            "6250/6250 [==============================] - 26s 4ms/step - loss: 0.5295 - mse: 0.0875 - precision: 0.8695 - recall: 0.6572\n"
          ]
        },
        {
          "data": {
            "text/plain": [
              "[0.5295194983482361,\n",
              " 0.08753032237291336,\n",
              " 0.869533896446228,\n",
              " 0.6572204232215881]"
            ]
          },
          "execution_count": 55,
          "metadata": {},
          "output_type": "execute_result"
        }
      ],
      "source": [
        "#Evaluasi Model\n",
        "model.evaluate(X_test_array,y_test)"
      ]
    },
    {
      "cell_type": "markdown",
      "id": "GXDD9nmjldph",
      "metadata": {
        "id": "GXDD9nmjldph"
      },
      "source": [
        "Mencari nilai F-Measure "
      ]
    },
    {
      "cell_type": "code",
      "execution_count": 56,
      "id": "TRiRKRvDpw-W",
      "metadata": {
        "colab": {
          "base_uri": "https://localhost:8080/"
        },
        "id": "TRiRKRvDpw-W",
        "outputId": "8ccb424a-b00d-4b78-dc0b-6fe5f742b58c"
      },
      "outputs": [
        {
          "name": "stdout",
          "output_type": "stream",
          "text": [
            "F Measure = 0.746216789233894\n"
          ]
        }
      ],
      "source": [
        "precision=0.8699718117713928\n",
        "recall=0.6532857418060303\n",
        "\n",
        "#count f_measure\n",
        "f_measure=2*(precision*recall)/(precision+recall)\n",
        "print(\"F Measure =\",f_measure)"
      ]
    },
    {
      "cell_type": "markdown",
      "id": "tOX0h8Ygn1xV",
      "metadata": {
        "id": "tOX0h8Ygn1xV"
      },
      "source": [
        "- Nilai MSE yang didapatkan yaitu sebesar 0.0875\n",
        "- Nilai precission yang didapatkan yaitu sebesar 0.8695\n",
        "- Nilai recall yang didapatkan yaitu sebesar 0.6572\n",
        "- Nilai F Measure yang didapatkan yaitu 0.7462"
      ]
    },
    {
      "cell_type": "markdown",
      "metadata": {},
      "source": [
        "Berikut ini merupakan tabel dari metrik evaluasi dari model diatas :\n",
        "\n",
        "| Metrik    | Nilai  |\n",
        "| --------- | ------ |\n",
        "| MSE       | 0.0875 |\n",
        "| Precision | 0.8695 |\n",
        "| Recall    | 0.6572 |\n",
        "| F-Measure | 0.7462 |\n"
      ]
    }
  ],
  "metadata": {
    "accelerator": "GPU",
    "colab": {
      "collapsed_sections": [],
      "name": "ProyekRekomendasiAnimeFix_KarlinaSuryaWitanto.ipynb",
      "provenance": []
    },
    "kernelspec": {
      "display_name": "Python 3",
      "language": "python",
      "name": "python3"
    },
    "language_info": {
      "codemirror_mode": {
        "name": "ipython",
        "version": 3
      },
      "file_extension": ".py",
      "mimetype": "text/x-python",
      "name": "python",
      "nbconvert_exporter": "python",
      "pygments_lexer": "ipython3",
      "version": "3.7.4"
    },
    "varInspector": {
      "cols": {
        "lenName": 16,
        "lenType": 16,
        "lenVar": 40
      },
      "kernels_config": {
        "python": {
          "delete_cmd_postfix": "",
          "delete_cmd_prefix": "del ",
          "library": "var_list.py",
          "varRefreshCmd": "print(var_dic_list())"
        },
        "r": {
          "delete_cmd_postfix": ") ",
          "delete_cmd_prefix": "rm(",
          "library": "var_list.r",
          "varRefreshCmd": "cat(var_dic_list()) "
        }
      },
      "types_to_exclude": [
        "module",
        "function",
        "builtin_function_or_method",
        "instance",
        "_Feature"
      ],
      "window_display": false
    }
  },
  "nbformat": 4,
  "nbformat_minor": 5
}
